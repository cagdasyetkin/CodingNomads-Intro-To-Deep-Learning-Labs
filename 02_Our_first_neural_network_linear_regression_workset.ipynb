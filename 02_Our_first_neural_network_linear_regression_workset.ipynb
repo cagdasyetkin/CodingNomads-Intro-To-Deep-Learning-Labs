{
 "cells": [
  {
   "cell_type": "code",
   "execution_count": 1,
   "metadata": {
    "executionInfo": {
     "elapsed": 7668,
     "status": "ok",
     "timestamp": 1660321669707,
     "user": {
      "displayName": "Mike Frantz",
      "userId": "08482506601269125384"
     },
     "user_tz": 420
    },
    "id": "UVZlK6AjphyK"
   },
   "outputs": [],
   "source": [
    "# Imports\n",
    "import torch\n",
    "from torch import nn, optim\n",
    "import torch.nn.functional as F\n",
    "import matplotlib.pyplot as plt\n",
    "import numpy as np\n",
    "import seaborn as sns\n",
    "from sklearn.model_selection import train_test_split\n",
    "\n",
    "%matplotlib inline"
   ]
  },
  {
   "cell_type": "code",
   "execution_count": 2,
   "metadata": {
    "executionInfo": {
     "elapsed": 224,
     "status": "ok",
     "timestamp": 1660321675978,
     "user": {
      "displayName": "Mike Frantz",
      "userId": "08482506601269125384"
     },
     "user_tz": 420
    },
    "id": "Zhrag2TVqUut"
   },
   "outputs": [],
   "source": [
    "def seed_all(seed=42):\n",
    "    \"\"\"\n",
    "    Sets the numpy and torch random seed.\n",
    "    \"\"\"\n",
    "    np.random.seed(seed)\n",
    "    torch.random.seed = seed\n",
    "\n",
    "seed_all()"
   ]
  },
  {
   "cell_type": "code",
   "execution_count": 3,
   "metadata": {
    "executionInfo": {
     "elapsed": 3,
     "status": "ok",
     "timestamp": 1660321676794,
     "user": {
      "displayName": "Mike Frantz",
      "userId": "08482506601269125384"
     },
     "user_tz": 420
    },
    "id": "3i5JbcrJp8Ng"
   },
   "outputs": [],
   "source": [
    "# Create some X data\n",
    "X = np.random.uniform(0, 10, 100)"
   ]
  },
  {
   "cell_type": "code",
   "execution_count": 4,
   "metadata": {
    "executionInfo": {
     "elapsed": 240,
     "status": "ok",
     "timestamp": 1660321677834,
     "user": {
      "displayName": "Mike Frantz",
      "userId": "08482506601269125384"
     },
     "user_tz": 420
    },
    "id": "uWXuFmJPqglE"
   },
   "outputs": [],
   "source": [
    "# Define the slope (m), bias (b), and some noise we want to add to X to make y\n",
    "m = 3\n",
    "b = 1.8\n",
    "noise = np.random.normal(scale=3, size=100)"
   ]
  },
  {
   "cell_type": "markdown",
   "metadata": {
    "id": "YaATIViIcyK_"
   },
   "source": [
    "# Exercise 2.1\n",
    "\n",
    "Based on your knowledge of linear regression, please use the variables `X`, `m`, `b`, and `noise` to generate a new variable `y`.\n",
    "\n",
    "<!-- startquestion -->"
   ]
  },
  {
   "cell_type": "code",
   "execution_count": 5,
   "metadata": {
    "executionInfo": {
     "elapsed": 2,
     "status": "ok",
     "timestamp": 1660321679228,
     "user": {
      "displayName": "Mike Frantz",
      "userId": "08482506601269125384"
     },
     "user_tz": 420
    },
    "id": "cCGl3ng2dSRw"
   },
   "outputs": [],
   "source": [
    "y = m * X + b + noise"
   ]
  },
  {
   "cell_type": "code",
   "execution_count": 6,
   "metadata": {
    "colab": {
     "base_uri": "https://localhost:8080/",
     "height": 623
    },
    "executionInfo": {
     "elapsed": 454,
     "status": "ok",
     "timestamp": 1660321681454,
     "user": {
      "displayName": "Mike Frantz",
      "userId": "08482506601269125384"
     },
     "user_tz": 420
    },
    "id": "6R0i1APRq0SW",
    "outputId": "54b5085e-4c0c-43a4-c5c4-69a01e5645d0"
   },
   "outputs": [
    {
     "data": {
      "text/plain": [
       "<matplotlib.collections.PathCollection at 0x2c395b5fa60>"
      ]
     },
     "execution_count": 6,
     "metadata": {},
     "output_type": "execute_result"
    },
    {
     "data": {
      "image/png": "[encoded data removed]",
      "text/plain": [
       "<Figure size 1000x1000 with 1 Axes>"
      ]
     },
     "metadata": {},
     "output_type": "display_data"
    }
   ],
   "source": [
    "fig, ax = plt.subplots(figsize=(10,10))\n",
    "ax.set_xlabel('X')\n",
    "ax.set_ylabel('y')\n",
    "ax.scatter(X, y)"
   ]
  },
  {
   "cell_type": "markdown",
   "metadata": {
    "id": "5mMYN-sAdqc1"
   },
   "source": [
    "# Exercise 2.2\n",
    "\n",
    "Please complete the `mse` function below.\n",
    "There is a sanity check implemented that shoudl let you know if you've implemented the function correctly.\n",
    "\n",
    "<!-- startquestion -->"
   ]
  },
  {
   "cell_type": "code",
   "execution_count": 7,
   "metadata": {
    "executionInfo": {
     "elapsed": 181,
     "status": "ok",
     "timestamp": 1660321684737,
     "user": {
      "displayName": "Mike Frantz",
      "userId": "08482506601269125384"
     },
     "user_tz": 420
    },
    "id": "duBXRwuidjI0"
   },
   "outputs": [],
   "source": [
    "# Define MSE\n",
    "def mse(predictions:torch.Tensor, actuals:torch.Tensor) -> torch.Tensor:\n",
    "    # your code here\n",
    "    return ((predictions - actuals) ** 2).mean()\n",
    "    # raise NotImplementedError(\"Implement MSE, then remove this line\")"
   ]
  },
  {
   "cell_type": "code",
   "execution_count": 8,
   "metadata": {
    "executionInfo": {
     "elapsed": 2,
     "status": "ok",
     "timestamp": 1660321685992,
     "user": {
      "displayName": "Mike Frantz",
      "userId": "08482506601269125384"
     },
     "user_tz": 420
    },
    "id": "YXVJjYjQYS-r"
   },
   "outputs": [],
   "source": [
    "ys = torch.tensor([1,2,3])\n",
    "yhats = torch.tensor([1.1, 2.1, 3.1])"
   ]
  },
  {
   "cell_type": "code",
   "execution_count": 10,
   "metadata": {
    "colab": {
     "base_uri": "https://localhost:8080/",
     "height": 166
    },
    "executionInfo": {
     "elapsed": 251,
     "status": "error",
     "timestamp": 1660321686856,
     "user": {
      "displayName": "Mike Frantz",
      "userId": "08482506601269125384"
     },
     "user_tz": 420
    },
    "id": "aqjXsI8dr4ba",
    "outputId": "408857d3-e041-4068-f9a4-e165d65a5d90"
   },
   "outputs": [
    {
     "ename": "AssertionError",
     "evalue": "",
     "output_type": "error",
     "traceback": [
      "\u001b[1;31m---------------------------------------------------------------------------\u001b[0m",
      "\u001b[1;31mAssertionError\u001b[0m                            Traceback (most recent call last)",
      "Cell \u001b[1;32mIn[10], line 1\u001b[0m\n\u001b[1;32m----> 1\u001b[0m \u001b[38;5;28;01massert\u001b[39;00m mse(ys, yhats) \u001b[38;5;241m==\u001b[39m \u001b[38;5;241m0.01\u001b[39m\n",
      "\u001b[1;31mAssertionError\u001b[0m: "
     ]
    }
   ],
   "source": [
    "assert mse(ys, yhats) == 0.01"
   ]
  },
  {
   "cell_type": "code",
   "execution_count": 11,
   "metadata": {
    "colab": {
     "base_uri": "https://localhost:8080/"
    },
    "executionInfo": {
     "elapsed": 170,
     "status": "ok",
     "timestamp": 1660321711770,
     "user": {
      "displayName": "Mike Frantz",
      "userId": "08482506601269125384"
     },
     "user_tz": 420
    },
    "id": "JXN3G-Fq4m9a",
    "outputId": "6d2e04ab-ab80-4cb3-c718-e25676e99656"
   },
   "outputs": [
    {
     "name": "stdout",
     "output_type": "stream",
     "text": [
      "tensor(0.0100)\n",
      "0.009999989\n"
     ]
    }
   ],
   "source": [
    "print(mse(ys, yhats))\n",
    "print(mse(ys, yhats).numpy())"
   ]
  },
  {
   "cell_type": "code",
   "execution_count": 13,
   "metadata": {
    "executionInfo": {
     "elapsed": 2,
     "status": "ok",
     "timestamp": 1660321739812,
     "user": {
      "displayName": "Mike Frantz",
      "userId": "08482506601269125384"
     },
     "user_tz": 420
    },
    "id": "T4dfoBM14tOq"
   },
   "outputs": [],
   "source": [
    "assert torch.allclose(mse(ys, yhats), torch.tensor(0.01))"
   ]
  },
  {
   "cell_type": "code",
   "execution_count": 14,
   "metadata": {
    "colab": {
     "base_uri": "https://localhost:8080/"
    },
    "executionInfo": {
     "elapsed": 232,
     "status": "ok",
     "timestamp": 1660321748998,
     "user": {
      "displayName": "Mike Frantz",
      "userId": "08482506601269125384"
     },
     "user_tz": 420
    },
    "id": "lmtAEb1_YOo6",
    "outputId": "549a42c1-cf61-4659-eba5-273fa60717f3"
   },
   "outputs": [
    {
     "data": {
      "text/plain": [
       "tensor(0.0100)"
      ]
     },
     "execution_count": 14,
     "metadata": {},
     "output_type": "execute_result"
    }
   ],
   "source": [
    "# Now that we've defined MSE, let's just use Torch's.\n",
    "mse_loss = nn.MSELoss()\n",
    "mse_loss(ys, yhats)"
   ]
  },
  {
   "cell_type": "code",
   "execution_count": 15,
   "metadata": {
    "colab": {
     "base_uri": "https://localhost:8080/"
    },
    "executionInfo": {
     "elapsed": 2,
     "status": "ok",
     "timestamp": 1660321749635,
     "user": {
      "displayName": "Mike Frantz",
      "userId": "08482506601269125384"
     },
     "user_tz": 420
    },
    "id": "HROGoKWjY0g1",
    "outputId": "2c4c4aaa-5e19-4859-a54c-2fd0b2826ef9"
   },
   "outputs": [
    {
     "data": {
      "text/plain": [
       "tensor(0.0100)"
      ]
     },
     "execution_count": 15,
     "metadata": {},
     "output_type": "execute_result"
    }
   ],
   "source": [
    "# We can also use the functional API to calculate MSE\n",
    "F.mse_loss(ys, yhats)"
   ]
  },
  {
   "cell_type": "code",
   "execution_count": 16,
   "metadata": {
    "executionInfo": {
     "elapsed": 2,
     "status": "ok",
     "timestamp": 1660321751132,
     "user": {
      "displayName": "Mike Frantz",
      "userId": "08482506601269125384"
     },
     "user_tz": 420
    },
    "id": "_i03QSwHZQFj"
   },
   "outputs": [],
   "source": [
    "from sklearn.linear_model import LinearRegression\n",
    "from sklearn.metrics import mean_squared_error"
   ]
  },
  {
   "cell_type": "markdown",
   "metadata": {
    "id": "1yIFPBzglI7u"
   },
   "source": [
    "# Exercise 2.3\n",
    "\n",
    "In the exercise below, use the notebook to fit a `LinearRegression` model. \n",
    "We will inspect the parameters (the coefficient and intercept), and calculate the mean squared error.\n",
    "In the cells below, complete the exercise to determine the coefficient and intercept learned by a `LinearRegression`.\n",
    "\n",
    "<!-- startquestion -->"
   ]
  },
  {
   "cell_type": "code",
   "execution_count": 17,
   "metadata": {
    "executionInfo": {
     "elapsed": 171,
     "status": "ok",
     "timestamp": 1660321752506,
     "user": {
      "displayName": "Mike Frantz",
      "userId": "08482506601269125384"
     },
     "user_tz": 420
    },
    "id": "M1rMNqDneidD"
   },
   "outputs": [],
   "source": [
    "# your code here\n",
    "lr = LinearRegression()\n",
    "lr.fit(X.reshape(-1, 1), y)\n",
    "y_pred = lr.predict(X.reshape(-1, 1))"
   ]
  },
  {
   "cell_type": "code",
   "execution_count": 18,
   "metadata": {
    "colab": {
     "base_uri": "https://localhost:8080/"
    },
    "executionInfo": {
     "elapsed": 2,
     "status": "ok",
     "timestamp": 1660321754092,
     "user": {
      "displayName": "Mike Frantz",
      "userId": "08482506601269125384"
     },
     "user_tz": 420
    },
    "id": "Lp5rB1BWZnyE",
    "outputId": "e9d009ac-e18a-40f0-b4cc-4a41617bc806"
   },
   "outputs": [
    {
     "data": {
      "text/plain": [
       "(array([2.86206803]), 2.4452884726402466)"
      ]
     },
     "execution_count": 18,
     "metadata": {},
     "output_type": "execute_result"
    }
   ],
   "source": [
    "# Display the slope and intercept\n",
    "lr.coef_, lr.intercept_"
   ]
  },
  {
   "cell_type": "code",
   "execution_count": 19,
   "metadata": {
    "colab": {
     "base_uri": "https://localhost:8080/"
    },
    "executionInfo": {
     "elapsed": 4,
     "status": "ok",
     "timestamp": 1660321757098,
     "user": {
      "displayName": "Mike Frantz",
      "userId": "08482506601269125384"
     },
     "user_tz": 420
    },
    "id": "1PAk2Xt3cAEy",
    "outputId": "48d140b5-885c-42b4-f609-66f1484ff8d0"
   },
   "outputs": [
    {
     "data": {
      "text/plain": [
       "7.259261075703482"
      ]
     },
     "execution_count": 19,
     "metadata": {},
     "output_type": "execute_result"
    }
   ],
   "source": [
    "# Calculate the mean squared error\n",
    "mean_squared_error(y, lr.predict(X.reshape(-1, 1)))"
   ]
  },
  {
   "cell_type": "code",
   "execution_count": 20,
   "metadata": {
    "colab": {
     "base_uri": "https://localhost:8080/",
     "height": 623
    },
    "executionInfo": {
     "elapsed": 243,
     "status": "ok",
     "timestamp": 1660321757876,
     "user": {
      "displayName": "Mike Frantz",
      "userId": "08482506601269125384"
     },
     "user_tz": 420
    },
    "id": "8eIhs0pjZyem",
    "outputId": "91bffe1b-6bb1-4712-d216-5adb290ac630"
   },
   "outputs": [
    {
     "data": {
      "text/plain": [
       "<matplotlib.legend.Legend at 0x2c3db5ebe50>"
      ]
     },
     "execution_count": 20,
     "metadata": {},
     "output_type": "execute_result"
    },
    {
     "data": {
      "image/png": "[encoded data removed]",
      "text/plain": [
       "<Figure size 1000x1000 with 1 Axes>"
      ]
     },
     "metadata": {},
     "output_type": "display_data"
    }
   ],
   "source": [
    "# Plot our line of best fit\n",
    "fig, ax = plt.subplots(figsize=(10,10))\n",
    "ax.set_xlabel('X')\n",
    "ax.set_ylabel('y')\n",
    "ax.scatter(X, y)\n",
    "_x = np.arange(0, 10)\n",
    "_y = _x * lr.coef_[0] + lr.intercept_\n",
    "ax.plot(_x, _y, c='red', label=f\"Line of best fit\")\n",
    "ax.legend()"
   ]
  },
  {
   "cell_type": "code",
   "execution_count": 21,
   "metadata": {
    "executionInfo": {
     "elapsed": 153,
     "status": "ok",
     "timestamp": 1660321759341,
     "user": {
      "displayName": "Mike Frantz",
      "userId": "08482506601269125384"
     },
     "user_tz": 420
    },
    "id": "zOJ2WiAyxGyo"
   },
   "outputs": [],
   "source": [
    "# Because we're in torch now, let's just turn X and y into tensors.\n",
    "X = torch.tensor(X)\n",
    "y = torch.tensor(y)"
   ]
  },
  {
   "cell_type": "markdown",
   "metadata": {
    "id": "u5Kd4qcgnnK3"
   },
   "source": [
    "# Exercise 2.4\n",
    "\n",
    "In the exercise below, complete the `forward` method. \n",
    "What is the input `X`? \n",
    "How should that be transformed to the output for a linear regression?\n",
    "\n",
    "<!-- startquestion -->"
   ]
  },
  {
   "cell_type": "code",
   "execution_count": 22,
   "metadata": {
    "executionInfo": {
     "elapsed": 1,
     "status": "ok",
     "timestamp": 1660321760357,
     "user": {
      "displayName": "Mike Frantz",
      "userId": "08482506601269125384"
     },
     "user_tz": 420
    },
    "id": "-2dfhB3fg1Jn"
   },
   "outputs": [],
   "source": [
    "# Build our linear regression model\n",
    "class LinReg(nn.Module):\n",
    "    def __init__(self):\n",
    "        super().__init__()\n",
    "        # Randomly initialize 2 parameters, one for our slope and one for our bias.\n",
    "        self.slope = nn.Parameter(torch.rand(1))\n",
    "        self.bias = nn.Parameter(torch.rand(1))\n",
    "\n",
    "    def forward(self, X):\n",
    "        return X * self.slope + self.bias"
   ]
  },
  {
   "cell_type": "code",
   "execution_count": 23,
   "metadata": {
    "executionInfo": {
     "elapsed": 2,
     "status": "ok",
     "timestamp": 1660321763371,
     "user": {
      "displayName": "Mike Frantz",
      "userId": "08482506601269125384"
     },
     "user_tz": 420
    },
    "id": "okgeYEnUtfHx"
   },
   "outputs": [],
   "source": [
    "lr = LinReg()"
   ]
  },
  {
   "cell_type": "code",
   "execution_count": 24,
   "metadata": {
    "executionInfo": {
     "elapsed": 2,
     "status": "ok",
     "timestamp": 1660321763575,
     "user": {
      "displayName": "Mike Frantz",
      "userId": "08482506601269125384"
     },
     "user_tz": 420
    },
    "id": "g5peJppY0Tsm"
   },
   "outputs": [],
   "source": [
    "N_EPOCHS = 300\n",
    "LR = 1e-3"
   ]
  },
  {
   "cell_type": "code",
   "execution_count": 25,
   "metadata": {
    "colab": {
     "base_uri": "https://localhost:8080/"
    },
    "executionInfo": {
     "elapsed": 179,
     "status": "ok",
     "timestamp": 1660321764153,
     "user": {
      "displayName": "Mike Frantz",
      "userId": "08482506601269125384"
     },
     "user_tz": 420
    },
    "id": "WGi-JIk-0ZP7",
    "outputId": "56a2dc72-b14a-4eb6-ffa2-995d230be046"
   },
   "outputs": [
    {
     "name": "stdout",
     "output_type": "stream",
     "text": [
      "Epoch 0 Train Loss: 192.3707\n",
      "Epoch 30 Train Loss: 12.0101\n",
      "Epoch 60 Train Loss: 8.3823\n",
      "Epoch 90 Train Loss: 8.2764\n",
      "Epoch 120 Train Loss: 8.2417\n",
      "Epoch 150 Train Loss: 8.2095\n",
      "Epoch 180 Train Loss: 8.1784\n",
      "Epoch 210 Train Loss: 8.1483\n",
      "Epoch 240 Train Loss: 8.1192\n",
      "Epoch 270 Train Loss: 8.0910\n"
     ]
    }
   ],
   "source": [
    "slopes = []\n",
    "biases = []\n",
    "losses = []\n",
    "_alphas = []\n",
    "for i in range(N_EPOCHS):\n",
    "    # Make some inferences\n",
    "    yhat = lr(X)\n",
    "    # Measure how bad those guesses were\n",
    "    loss = F.mse_loss(yhat, y)\n",
    "    if i%(N_EPOCHS/10)==0:\n",
    "        print(f\"Epoch {i} Train Loss: {loss:.04f}\")\n",
    "    # Calculate the gradient of all the parameters with respect to the loss\n",
    "    loss.backward()\n",
    "    # Apply the SGD update rule\n",
    "    lr.slope.data.sub_(lr.slope.grad * LR)\n",
    "    lr.bias.data.sub_(lr.bias.grad * LR)\n",
    "    # Zero out the gradients for the next round\n",
    "    lr.slope.grad.zero_()\n",
    "    lr.bias.grad.zero_()\n",
    "\n",
    "    # Record the parameters and losses so we can plot them out later\n",
    "    slopes.append(float(lr.slope.data.detach().item()))\n",
    "    biases.append(float(lr.bias.data.detach().item()))\n",
    "    losses.append(float(loss.detach().item()))\n",
    "    _alphas.append(i/N_EPOCHS)"
   ]
  },
  {
   "cell_type": "code",
   "execution_count": 26,
   "metadata": {
    "colab": {
     "base_uri": "https://localhost:8080/"
    },
    "executionInfo": {
     "elapsed": 192,
     "status": "ok",
     "timestamp": 1660321764535,
     "user": {
      "displayName": "Mike Frantz",
      "userId": "08482506601269125384"
     },
     "user_tz": 420
    },
    "id": "wgyFeEBudKpF",
    "outputId": "9d0c1d9a-53e8-46ca-d0b5-2a443ed0bfee"
   },
   "outputs": [
    {
     "data": {
      "text/plain": [
       "(Parameter containing:\n",
       " tensor([3.1208], requires_grad=True),\n",
       " Parameter containing:\n",
       " tensor([0.7619], requires_grad=True))"
      ]
     },
     "execution_count": 26,
     "metadata": {},
     "output_type": "execute_result"
    }
   ],
   "source": [
    "lr.slope, lr.bias"
   ]
  },
  {
   "cell_type": "code",
   "execution_count": 27,
   "metadata": {
    "colab": {
     "base_uri": "https://localhost:8080/",
     "height": 621
    },
    "executionInfo": {
     "elapsed": 319,
     "status": "ok",
     "timestamp": 1660321766661,
     "user": {
      "displayName": "Mike Frantz",
      "userId": "08482506601269125384"
     },
     "user_tz": 420
    },
    "id": "7gQXK8bw2NL-",
    "outputId": "6ce66ab8-36f4-460b-f817-dfe58f2c81ee"
   },
   "outputs": [
    {
     "data": {
      "image/png": "[encoded data removed]",
      "text/plain": [
       "<Figure size 1400x1000 with 1 Axes>"
      ]
     },
     "metadata": {},
     "output_type": "display_data"
    }
   ],
   "source": [
    "fig, ax = plt.subplots(figsize=(14,10))\n",
    "ax.plot(losses)\n",
    "ax.set_xlabel('Epoch')\n",
    "ax.set_ylabel('Loss (MSE)')\n",
    "if (losses[-1] > losses[0]) | np.isnan(losses[-1]):\n",
    "    ax.set_title('Diverging - BAD!')\n",
    "else:\n",
    "    ax.set_title('Converging - goood!')"
   ]
  },
  {
   "cell_type": "markdown",
   "metadata": {
    "id": "kMMiW5YRhCQF"
   },
   "source": [
    "# Exercise 2.5\n",
    "\n",
    "Change the learning rate and number of epochs, then re-run the code up to this point, making sure to re-instantiate your model every time.\n",
    "What do you notice?\n",
    "What happens if you make the learning rate too large or too small?\n",
    "\n",
    "<!-- startquestion -->"
   ]
  },
  {
   "cell_type": "code",
   "execution_count": 28,
   "metadata": {
    "executionInfo": {
     "elapsed": 3,
     "status": "ok",
     "timestamp": 1660321766662,
     "user": {
      "displayName": "Mike Frantz",
      "userId": "08482506601269125384"
     },
     "user_tz": 420
    },
    "id": "1BMXex0Xjlty"
   },
   "outputs": [],
   "source": [
    "# Go back and re-run the code with different hyperparameters."
   ]
  },
  {
   "cell_type": "code",
   "execution_count": 29,
   "metadata": {
    "executionInfo": {
     "elapsed": 2,
     "status": "ok",
     "timestamp": 1660321767522,
     "user": {
      "displayName": "Mike Frantz",
      "userId": "08482506601269125384"
     },
     "user_tz": 420
    },
    "id": "-VVJBDwN6X-_"
   },
   "outputs": [],
   "source": [
    "# Make yet another fake dataset\n",
    "from sklearn.datasets import make_regression\n",
    "X, y = make_regression(n_samples=1000, n_features=3, n_informative=2, bias=3, noise=2)"
   ]
  },
  {
   "cell_type": "code",
   "execution_count": 30,
   "metadata": {
    "executionInfo": {
     "elapsed": 1,
     "status": "ok",
     "timestamp": 1660321767737,
     "user": {
      "displayName": "Mike Frantz",
      "userId": "08482506601269125384"
     },
     "user_tz": 420
    },
    "id": "3XHTBONL8APT"
   },
   "outputs": [],
   "source": [
    "# No more bad habits, we need to split our data.\n",
    "X_train, X_valid, y_train, y_valid = (torch.tensor(i).float() for i in train_test_split(X, y, test_size=0.1, random_state=42))"
   ]
  },
  {
   "cell_type": "markdown",
   "metadata": {
    "id": "h9o7gG1hqaey"
   },
   "source": [
    "# Exercise 2.6\n",
    "\n",
    "Complete the exercise below to create a few `nn.Parameter`s for our weights and bias.\n",
    "The `weights` parameter should have the same number of elements as `X_train` has columns, and the `bias` parameter should just be a single value.\n",
    "Use `torch.rand` to generate random numbers to populate the parameters.\n",
    "\n",
    "<!-- startquestion -->"
   ]
  },
  {
   "cell_type": "code",
   "execution_count": 31,
   "metadata": {
    "executionInfo": {
     "elapsed": 2,
     "status": "ok",
     "timestamp": 1660321768326,
     "user": {
      "displayName": "Mike Frantz",
      "userId": "08482506601269125384"
     },
     "user_tz": 420
    },
    "id": "e79s8POBiRaF"
   },
   "outputs": [],
   "source": [
    "# Let's create some temporary weights and biases and test out our matrix operations before we build our model.\n",
    "# Create a weights parameter with 1 beta per column in X\n",
    "weights = torch.rand(X_train.shape[1], 1, requires_grad=True)\n",
    "# Create our bias parameter\n",
    "bias = torch.rand(1, requires_grad=True)"
   ]
  },
  {
   "cell_type": "code",
   "execution_count": 32,
   "metadata": {
    "colab": {
     "base_uri": "https://localhost:8080/"
    },
    "executionInfo": {
     "elapsed": 4,
     "status": "ok",
     "timestamp": 1660321769018,
     "user": {
      "displayName": "Mike Frantz",
      "userId": "08482506601269125384"
     },
     "user_tz": 420
    },
    "id": "ZW3sWkn49A9r",
    "outputId": "657c010c-95e2-4073-e960-275a0fa585ed"
   },
   "outputs": [
    {
     "data": {
      "text/plain": [
       "tensor([[0.7575],\n",
       "        [0.1615],\n",
       "        [0.5939],\n",
       "        [0.6216],\n",
       "        [0.7190],\n",
       "        [0.0892],\n",
       "        [0.8685],\n",
       "        [0.8616],\n",
       "        [1.5525],\n",
       "        [1.3185]], grad_fn=<AddBackward0>)"
      ]
     },
     "execution_count": 32,
     "metadata": {},
     "output_type": "execute_result"
    }
   ],
   "source": [
    "# Test out the operation we want to perform in the forward pass\n",
    "torch.matmul(X_train[:10], weights) + bias"
   ]
  },
  {
   "cell_type": "code",
   "execution_count": 33,
   "metadata": {
    "colab": {
     "base_uri": "https://localhost:8080/"
    },
    "executionInfo": {
     "elapsed": 3,
     "status": "ok",
     "timestamp": 1660321769782,
     "user": {
      "displayName": "Mike Frantz",
      "userId": "08482506601269125384"
     },
     "user_tz": 420
    },
    "id": "y8bauLhD7N8V",
    "outputId": "1fc5cf64-37ac-482b-df53-ec2039e262bd"
   },
   "outputs": [
    {
     "data": {
      "text/plain": [
       "tensor([[0.7575],\n",
       "        [0.1615],\n",
       "        [0.5939],\n",
       "        [0.6216],\n",
       "        [0.7190],\n",
       "        [0.0892],\n",
       "        [0.8685],\n",
       "        [0.8616],\n",
       "        [1.5525],\n",
       "        [1.3185]], grad_fn=<AddBackward0>)"
      ]
     },
     "execution_count": 33,
     "metadata": {},
     "output_type": "execute_result"
    }
   ],
   "source": [
    "# FYI: @ does the same thing as matmul in this context and is easier\n",
    "X_train[:10]@weights + bias"
   ]
  },
  {
   "cell_type": "code",
   "execution_count": 34,
   "metadata": {
    "executionInfo": {
     "elapsed": 2,
     "status": "ok",
     "timestamp": 1660321770800,
     "user": {
      "displayName": "Mike Frantz",
      "userId": "08482506601269125384"
     },
     "user_tz": 420
    },
    "id": "mYRcEdGH8aN3"
   },
   "outputs": [],
   "source": [
    "# Sanity check: different implementations of our forward pass are the same\n",
    "assert (X_train@weights + bias == torch.matmul(X_train, weights) + bias).all()"
   ]
  },
  {
   "cell_type": "code",
   "execution_count": 35,
   "metadata": {
    "executionInfo": {
     "elapsed": 2,
     "status": "ok",
     "timestamp": 1660321771769,
     "user": {
      "displayName": "Mike Frantz",
      "userId": "08482506601269125384"
     },
     "user_tz": 420
    },
    "id": "gNzWV8938wjO"
   },
   "outputs": [],
   "source": [
    "# Let's make our model\n",
    "class LinRegMulti(nn.Module):\n",
    "    def __init__(self, n_cols):\n",
    "        super().__init__()\n",
    "        self.n_cols = n_cols\n",
    "\n",
    "        self.weights = nn.Parameter(torch.rand(self.n_cols))\n",
    "        self.bias = nn.Parameter(torch.rand(1))\n",
    "    \n",
    "    def forward(self, X):\n",
    "        return X@self.weights.T + self.bias"
   ]
  },
  {
   "cell_type": "code",
   "execution_count": 36,
   "metadata": {
    "executionInfo": {
     "elapsed": 159,
     "status": "ok",
     "timestamp": 1660321772758,
     "user": {
      "displayName": "Mike Frantz",
      "userId": "08482506601269125384"
     },
     "user_tz": 420
    },
    "id": "wEzQbpnR8hqO"
   },
   "outputs": [],
   "source": [
    "N_EPOCHS = 10000\n",
    "LR = 1e-3"
   ]
  },
  {
   "cell_type": "code",
   "execution_count": 37,
   "metadata": {
    "executionInfo": {
     "elapsed": 2,
     "status": "ok",
     "timestamp": 1660321773691,
     "user": {
      "displayName": "Mike Frantz",
      "userId": "08482506601269125384"
     },
     "user_tz": 420
    },
    "id": "MfWaPFjW9dfb"
   },
   "outputs": [],
   "source": [
    "lrm = LinRegMulti(X_train.shape[1])"
   ]
  },
  {
   "cell_type": "code",
   "execution_count": 38,
   "metadata": {
    "executionInfo": {
     "elapsed": 2,
     "status": "ok",
     "timestamp": 1660321774481,
     "user": {
      "displayName": "Mike Frantz",
      "userId": "08482506601269125384"
     },
     "user_tz": 420
    },
    "id": "UlRs5GF7-CQh"
   },
   "outputs": [],
   "source": [
    "# Instead of updating each parameter individually, let's make an update rule function.\n",
    "def gd_update_rule(parameters, lr):\n",
    "    parameters.data.sub_(parameters.grad * lr)\n",
    "    parameters.grad.zero_()"
   ]
  },
  {
   "cell_type": "code",
   "execution_count": 39,
   "metadata": {
    "executionInfo": {
     "elapsed": 171,
     "status": "ok",
     "timestamp": 1660321775591,
     "user": {
      "displayName": "Mike Frantz",
      "userId": "08482506601269125384"
     },
     "user_tz": 420
    },
    "id": "zzk5omp6-hEX"
   },
   "outputs": [],
   "source": [
    "train_losses = []\n",
    "valid_losses = []"
   ]
  },
  {
   "cell_type": "code",
   "execution_count": 40,
   "metadata": {
    "colab": {
     "base_uri": "https://localhost:8080/"
    },
    "executionInfo": {
     "elapsed": 3503,
     "status": "ok",
     "timestamp": 1660321780071,
     "user": {
      "displayName": "Mike Frantz",
      "userId": "08482506601269125384"
     },
     "user_tz": 420
    },
    "id": "GczinipS9hRz",
    "outputId": "ddf1eef3-95e1-4b7d-e256-b4383775e99b"
   },
   "outputs": [
    {
     "name": "stderr",
     "output_type": "stream",
     "text": [
      "C:\\Users\\3296422\\AppData\\Local\\Temp\\ipykernel_28104\\384595919.py:11: UserWarning: The use of `x.T` on tensors of dimension other than 2 to reverse their shape is deprecated and it will throw an error in a future release. Consider `x.mT` to transpose batches of matrices or `x.permute(*torch.arange(x.ndim - 1, -1, -1))` to reverse the dimensions of a tensor. (Triggered internally at ..\\aten\\src\\ATen\\native\\TensorShape.cpp:3679.)\n",
      "  return X@self.weights.T + self.bias\n"
     ]
    },
    {
     "name": "stdout",
     "output_type": "stream",
     "text": [
      "Epoch 0 Train Loss: 2049.8813, Valid Loss: 2474.0654\n",
      "Epoch 1000 Train Loss: 53.2907, Valid Loss: 64.5924\n",
      "Epoch 2000 Train Loss: 5.3661, Valid Loss: 5.9566\n",
      "Epoch 3000 Train Loss: 4.1692, Valid Loss: 4.2595\n",
      "Epoch 4000 Train Loss: 4.1385, Valid Loss: 4.1794\n",
      "Epoch 5000 Train Loss: 4.1377, Valid Loss: 4.1719\n",
      "Epoch 6000 Train Loss: 4.1377, Valid Loss: 4.1711\n",
      "Epoch 7000 Train Loss: 4.1377, Valid Loss: 4.1712\n",
      "Epoch 8000 Train Loss: 4.1377, Valid Loss: 4.1712\n",
      "Epoch 9000 Train Loss: 4.1377, Valid Loss: 4.1712\n"
     ]
    }
   ],
   "source": [
    "for i in range(N_EPOCHS):\n",
    "    yhat = lrm(X_train)\n",
    "    loss = mse(yhat, y_train)\n",
    "    loss.backward()\n",
    "    for p in lrm.parameters():\n",
    "        gd_update_rule(p, LR)\n",
    "    train_losses.append(loss.detach().item())\n",
    "\n",
    "    with torch.no_grad():\n",
    "        yhat = lrm(X_valid)\n",
    "        valid_loss = mse(yhat, y_valid)\n",
    "        valid_losses.append(valid_loss.item())\n",
    "\n",
    "    if i%(N_EPOCHS/10) == 0:\n",
    "        print(f\"Epoch {i} Train Loss: {loss:.04f}, Valid Loss: {valid_loss:.04f}\")"
   ]
  },
  {
   "cell_type": "code",
   "execution_count": 41,
   "metadata": {
    "colab": {
     "base_uri": "https://localhost:8080/",
     "height": 717
    },
    "executionInfo": {
     "elapsed": 246,
     "status": "ok",
     "timestamp": 1660321780313,
     "user": {
      "displayName": "Mike Frantz",
      "userId": "08482506601269125384"
     },
     "user_tz": 420
    },
    "id": "RoVuHW7a9iau",
    "outputId": "8b5bb379-0bd3-4fa9-e4e9-2d628b6c7790"
   },
   "outputs": [
    {
     "data": {
      "text/plain": [
       "<matplotlib.legend.Legend at 0x2c3987a7700>"
      ]
     },
     "execution_count": 41,
     "metadata": {},
     "output_type": "execute_result"
    },
    {
     "data": {
      "image/png": "[encoded data removed]",
      "text/plain": [
       "<Figure size 1200x1200 with 1 Axes>"
      ]
     },
     "metadata": {},
     "output_type": "display_data"
    }
   ],
   "source": [
    "EPOCHS_TO_SHOW = 2000\n",
    "fig, ax = plt.subplots(figsize=(12, 12))\n",
    "ax.plot(train_losses[:EPOCHS_TO_SHOW], label='Train', linewidth=3, alpha=0.5)\n",
    "ax.plot(valid_losses[:EPOCHS_TO_SHOW], ls='--', label='Valid')\n",
    "ax.legend()"
   ]
  },
  {
   "cell_type": "code",
   "execution_count": 42,
   "metadata": {
    "colab": {
     "base_uri": "https://localhost:8080/"
    },
    "executionInfo": {
     "elapsed": 2,
     "status": "ok",
     "timestamp": 1660321780522,
     "user": {
      "displayName": "Mike Frantz",
      "userId": "08482506601269125384"
     },
     "user_tz": 420
    },
    "id": "nVxNByIg-mas",
    "outputId": "db894b17-819e-428d-b41f-b5d7134e4d08"
   },
   "outputs": [
    {
     "data": {
      "text/plain": [
       "Parameter containing:\n",
       "tensor([2.7642e-02, 4.1119e+01, 2.4042e+01], requires_grad=True)"
      ]
     },
     "execution_count": 42,
     "metadata": {},
     "output_type": "execute_result"
    }
   ],
   "source": [
    "lrm.weights"
   ]
  },
  {
   "cell_type": "code",
   "execution_count": 43,
   "metadata": {
    "colab": {
     "base_uri": "https://localhost:8080/"
    },
    "executionInfo": {
     "elapsed": 2,
     "status": "ok",
     "timestamp": 1660321781052,
     "user": {
      "displayName": "Mike Frantz",
      "userId": "08482506601269125384"
     },
     "user_tz": 420
    },
    "id": "fYNLiUqy-yxx",
    "outputId": "263b7373-9949-44bf-ff46-40ded2f8e845"
   },
   "outputs": [
    {
     "data": {
      "text/plain": [
       "Parameter containing:\n",
       "tensor([2.9828], requires_grad=True)"
      ]
     },
     "execution_count": 43,
     "metadata": {},
     "output_type": "execute_result"
    }
   ],
   "source": [
    "lrm.bias"
   ]
  },
  {
   "cell_type": "code",
   "execution_count": 44,
   "metadata": {
    "executionInfo": {
     "elapsed": 159,
     "status": "ok",
     "timestamp": 1660321783167,
     "user": {
      "displayName": "Mike Frantz",
      "userId": "08482506601269125384"
     },
     "user_tz": 420
    },
    "id": "59HrUTC5_YfS"
   },
   "outputs": [],
   "source": [
    "class Linear(nn.Module):\n",
    "    def __init__(self, dim_in, dim_out):\n",
    "        super().__init__()\n",
    "        self.weights = nn.Parameter(torch.rand((dim_in, dim_out)))\n",
    "        self.bias = nn.Parameter(torch.rand(dim_out))\n",
    "    \n",
    "    def forward(self, X):\n",
    "\n",
    "        return X@self.weights + self.bias"
   ]
  },
  {
   "cell_type": "code",
   "execution_count": 45,
   "metadata": {
    "executionInfo": {
     "elapsed": 179,
     "status": "ok",
     "timestamp": 1660321784402,
     "user": {
      "displayName": "Mike Frantz",
      "userId": "08482506601269125384"
     },
     "user_tz": 420
    },
    "id": "glH-bIYp8JxC"
   },
   "outputs": [],
   "source": [
    "# Let's compare our Linear class with nn.Linear\n",
    "l1 = Linear(3, 5)\n",
    "l2 = nn.Linear(3, 5)"
   ]
  },
  {
   "cell_type": "code",
   "execution_count": 46,
   "metadata": {
    "colab": {
     "base_uri": "https://localhost:8080/"
    },
    "executionInfo": {
     "elapsed": 177,
     "status": "ok",
     "timestamp": 1660321785617,
     "user": {
      "displayName": "Mike Frantz",
      "userId": "08482506601269125384"
     },
     "user_tz": 420
    },
    "id": "SNAS7jI99yGE",
    "outputId": "0622c5e6-5ab9-479e-b9ee-4f0fdb96c332"
   },
   "outputs": [
    {
     "data": {
      "text/plain": [
       "Parameter containing:\n",
       "tensor([[ 0.3440,  0.4476,  0.3124],\n",
       "        [ 0.3218,  0.4604,  0.1378],\n",
       "        [ 0.5132,  0.4328, -0.1450],\n",
       "        [-0.5137, -0.0496, -0.3960],\n",
       "        [ 0.5002,  0.2640,  0.1520]], requires_grad=True)"
      ]
     },
     "execution_count": 46,
     "metadata": {},
     "output_type": "execute_result"
    }
   ],
   "source": [
    "l2.weight"
   ]
  },
  {
   "cell_type": "code",
   "execution_count": 47,
   "metadata": {
    "colab": {
     "base_uri": "https://localhost:8080/"
    },
    "executionInfo": {
     "elapsed": 4,
     "status": "ok",
     "timestamp": 1660321786327,
     "user": {
      "displayName": "Mike Frantz",
      "userId": "08482506601269125384"
     },
     "user_tz": 420
    },
    "id": "QgwbpaGw9wCT",
    "outputId": "554809f6-a1ed-488c-9b76-80c66ae66d88"
   },
   "outputs": [
    {
     "data": {
      "text/plain": [
       "Parameter containing:\n",
       "tensor([[0.3771, 0.5456, 0.5464, 0.7770, 0.0583],\n",
       "        [0.8647, 0.0278, 0.1161, 0.4564, 0.5190],\n",
       "        [0.8660, 0.7729, 0.9644, 0.1263, 0.8626]], requires_grad=True)"
      ]
     },
     "execution_count": 47,
     "metadata": {},
     "output_type": "execute_result"
    }
   ],
   "source": [
    "l1.weights"
   ]
  },
  {
   "cell_type": "code",
   "execution_count": 48,
   "metadata": {
    "colab": {
     "base_uri": "https://localhost:8080/"
    },
    "executionInfo": {
     "elapsed": 165,
     "status": "ok",
     "timestamp": 1660321788039,
     "user": {
      "displayName": "Mike Frantz",
      "userId": "08482506601269125384"
     },
     "user_tz": 420
    },
    "id": "ZHTeLzXP_Rzc",
    "outputId": "1c1f710d-a982-40ed-e14f-db52ccc49a73"
   },
   "outputs": [
    {
     "data": {
      "text/plain": [
       "tensor([-0.4582,  0.5756,  0.4620,  0.4518, -0.4415], grad_fn=<CopyBackwards>)"
      ]
     },
     "execution_count": 48,
     "metadata": {},
     "output_type": "execute_result"
    }
   ],
   "source": [
    "# We need to make sure the weights have the same values.\n",
    "# If they don't, we won't be able to compare the output.\n",
    "# I'm not sure why the Linear layer's weights are transposed,\n",
    "# but we'll see it doesn't matter.\n",
    "l1.weights.data.copy_(l2.weight.T)\n",
    "l1.bias.data.copy_(l2.bias)"
   ]
  },
  {
   "cell_type": "code",
   "execution_count": 49,
   "metadata": {
    "colab": {
     "base_uri": "https://localhost:8080/"
    },
    "executionInfo": {
     "elapsed": 210,
     "status": "ok",
     "timestamp": 1660321789763,
     "user": {
      "displayName": "Mike Frantz",
      "userId": "08482506601269125384"
     },
     "user_tz": 420
    },
    "id": "LZsxCvsZ8c5R",
    "outputId": "cd7953f5-f9bc-46bb-a44e-25a5c6056d15"
   },
   "outputs": [
    {
     "data": {
      "text/plain": [
       "tensor([[-1.1446, -0.1999, -0.7115,  0.9345, -1.2575],\n",
       "        [-0.6873,  0.4511,  0.3364,  0.9747, -0.7617],\n",
       "        [-0.2077,  0.8711,  0.7798,  0.5250, -0.3065],\n",
       "        [-0.4458,  0.6132,  0.5927,  0.4063, -0.3615],\n",
       "        [-1.0681, -0.0850, -0.2126,  0.4604, -0.8118]], grad_fn=<AddBackward0>)"
      ]
     },
     "execution_count": 49,
     "metadata": {},
     "output_type": "execute_result"
    }
   ],
   "source": [
    "l1(X_train[:5])"
   ]
  },
  {
   "cell_type": "code",
   "execution_count": 50,
   "metadata": {
    "colab": {
     "base_uri": "https://localhost:8080/"
    },
    "executionInfo": {
     "elapsed": 3,
     "status": "ok",
     "timestamp": 1660321790182,
     "user": {
      "displayName": "Mike Frantz",
      "userId": "08482506601269125384"
     },
     "user_tz": 420
    },
    "id": "o-l2dsw78oyO",
    "outputId": "ab315e31-dc38-4de8-f177-ae855f82e391"
   },
   "outputs": [
    {
     "data": {
      "text/plain": [
       "tensor([[-1.1446, -0.1999, -0.7115,  0.9345, -1.2575],\n",
       "        [-0.6873,  0.4511,  0.3364,  0.9747, -0.7617],\n",
       "        [-0.2077,  0.8711,  0.7798,  0.5250, -0.3065],\n",
       "        [-0.4458,  0.6132,  0.5927,  0.4063, -0.3615],\n",
       "        [-1.0681, -0.0850, -0.2126,  0.4604, -0.8118]],\n",
       "       grad_fn=<AddmmBackward0>)"
      ]
     },
     "execution_count": 50,
     "metadata": {},
     "output_type": "execute_result"
    }
   ],
   "source": [
    "l2(X_train[:5])"
   ]
  },
  {
   "cell_type": "code",
   "execution_count": 51,
   "metadata": {
    "executionInfo": {
     "elapsed": 176,
     "status": "ok",
     "timestamp": 1660321791429,
     "user": {
      "displayName": "Mike Frantz",
      "userId": "08482506601269125384"
     },
     "user_tz": 420
    },
    "id": "OJK1Q27O_cdR"
   },
   "outputs": [],
   "source": [
    "assert (l1(X_train[:5]) == l2(X_train[:5])).all()"
   ]
  },
  {
   "cell_type": "code",
   "execution_count": 52,
   "metadata": {
    "colab": {
     "base_uri": "https://localhost:8080/"
    },
    "executionInfo": {
     "elapsed": 1343,
     "status": "ok",
     "timestamp": 1660321794431,
     "user": {
      "displayName": "Mike Frantz",
      "userId": "08482506601269125384"
     },
     "user_tz": 420
    },
    "id": "iRV8GSei7rt_",
    "outputId": "8ab62565-5a7f-458e-d0ac-344042a8aff2"
   },
   "outputs": [
    {
     "name": "stdout",
     "output_type": "stream",
     "text": [
      "20.5 μs ± 1.53 μs per loop (mean ± std. dev. of 7 runs, 10,000 loops each)\n"
     ]
    }
   ],
   "source": [
    "%%timeit \n",
    "l1(X_train[:5])"
   ]
  },
  {
   "cell_type": "code",
   "execution_count": 53,
   "metadata": {
    "colab": {
     "base_uri": "https://localhost:8080/"
    },
    "executionInfo": {
     "elapsed": 1292,
     "status": "ok",
     "timestamp": 1660321795720,
     "user": {
      "displayName": "Mike Frantz",
      "userId": "08482506601269125384"
     },
     "user_tz": 420
    },
    "id": "WFOymbqq7wHO",
    "outputId": "4ce9ffc5-25e4-4eb8-b628-f3112cd50431"
   },
   "outputs": [
    {
     "name": "stdout",
     "output_type": "stream",
     "text": [
      "23.3 μs ± 1.59 μs per loop (mean ± std. dev. of 7 runs, 10,000 loops each)\n"
     ]
    }
   ],
   "source": [
    "%%timeit\n",
    " l2(X_train[:5])"
   ]
  },
  {
   "cell_type": "code",
   "execution_count": 54,
   "metadata": {
    "colab": {
     "base_uri": "https://localhost:8080/",
     "height": 516
    },
    "executionInfo": {
     "elapsed": 426,
     "status": "ok",
     "timestamp": 1660321801826,
     "user": {
      "displayName": "Mike Frantz",
      "userId": "08482506601269125384"
     },
     "user_tz": 420
    },
    "id": "gE7TAbIG2tjD",
    "outputId": "e00a2dfe-b2b0-42fd-f546-9f624ce76b97"
   },
   "outputs": [
    {
     "data": {
      "text/plain": [
       "<matplotlib.legend.Legend at 0x2c398914e80>"
      ]
     },
     "execution_count": 54,
     "metadata": {},
     "output_type": "execute_result"
    },
    {
     "data": {
      "image/png": "[encoded data removed]",
      "text/plain": [
       "<Figure size 1400x800 with 1 Axes>"
      ]
     },
     "metadata": {},
     "output_type": "display_data"
    }
   ],
   "source": [
    "rng = torch.arange(-5, 5.01, 0.05)\n",
    "fig, ax = plt.subplots(figsize=(14, 8))\n",
    "ax.plot(rng, F.relu(rng), label='ReLU')\n",
    "ax.plot(rng, torch.tanh(rng), label='tanh')\n",
    "ax.plot(rng, torch.sigmoid(rng), label='sigmoid')\n",
    "ax.plot(rng, F.leaky_relu(rng, negative_slope=0.01), ls='--', label='leaky ReLU')\n",
    "ax.set_ylim(-1.1, 1.1)\n",
    "ax.set_title('Common activation functions')\n",
    "ax.legend()"
   ]
  },
  {
   "cell_type": "code",
   "execution_count": 55,
   "metadata": {
    "executionInfo": {
     "elapsed": 197,
     "status": "ok",
     "timestamp": 1660321804718,
     "user": {
      "displayName": "Mike Frantz",
      "userId": "08482506601269125384"
     },
     "user_tz": 420
    },
    "id": "E1zUoNys_9QL"
   },
   "outputs": [],
   "source": [
    "class MultiLayerRegressor(nn.Module):\n",
    "    def __init__(self, dim_in, hidden_dim):\n",
    "        super().__init__()\n",
    "        # self.first_layer = Linear(dim_in, hidden_dim)\n",
    "        self.first_layer = nn.Linear(dim_in, hidden_dim)\n",
    "        # self.second_layer = Linear(hidden_dim, 1)\n",
    "        self.second_layer = nn.Linear(hidden_dim, 1)\n",
    "    \n",
    "    def forward(self, X):\n",
    "        x = self.first_layer(X)\n",
    "        # x = relu(x)\n",
    "        x = F.relu(x)\n",
    "        x = self.second_layer(x)\n",
    "        return x"
   ]
  },
  {
   "cell_type": "code",
   "execution_count": 56,
   "metadata": {
    "executionInfo": {
     "elapsed": 2,
     "status": "ok",
     "timestamp": 1660321804925,
     "user": {
      "displayName": "Mike Frantz",
      "userId": "08482506601269125384"
     },
     "user_tz": 420
    },
    "id": "mc0dA6sxIFoe"
   },
   "outputs": [],
   "source": [
    "def multilayer_regressor(in_dim, hidden_dim):\n",
    "    return nn.Sequential(\n",
    "        nn.Linear(in_dim, hidden_dim),\n",
    "        nn.ReLU(),\n",
    "        nn.Linear(hidden_dim, 1)\n",
    "    )"
   ]
  },
  {
   "cell_type": "code",
   "execution_count": 57,
   "metadata": {
    "executionInfo": {
     "elapsed": 3,
     "status": "ok",
     "timestamp": 1660321805617,
     "user": {
      "displayName": "Mike Frantz",
      "userId": "08482506601269125384"
     },
     "user_tz": 420
    },
    "id": "FKLZZbRBAaBD"
   },
   "outputs": [],
   "source": [
    "# mlr = MultiLayerRegressor(3, 4)\n",
    "mlr = multilayer_regressor(3, 4)"
   ]
  },
  {
   "cell_type": "code",
   "execution_count": 58,
   "metadata": {
    "executionInfo": {
     "elapsed": 1,
     "status": "ok",
     "timestamp": 1660321805829,
     "user": {
      "displayName": "Mike Frantz",
      "userId": "08482506601269125384"
     },
     "user_tz": 420
    },
    "id": "0oaN64-iAwJ4"
   },
   "outputs": [],
   "source": [
    "train_losses = []\n",
    "valid_losses = []"
   ]
  },
  {
   "cell_type": "code",
   "execution_count": 59,
   "metadata": {
    "executionInfo": {
     "elapsed": 2,
     "status": "ok",
     "timestamp": 1660321806245,
     "user": {
      "displayName": "Mike Frantz",
      "userId": "08482506601269125384"
     },
     "user_tz": 420
    },
    "id": "Yt1uzMjZBkWQ"
   },
   "outputs": [],
   "source": [
    "LR = 1e-3\n",
    "N_EPOCHS = 20000"
   ]
  },
  {
   "cell_type": "code",
   "execution_count": 60,
   "metadata": {
    "executionInfo": {
     "elapsed": 2,
     "status": "ok",
     "timestamp": 1660321806729,
     "user": {
      "displayName": "Mike Frantz",
      "userId": "08482506601269125384"
     },
     "user_tz": 420
    },
    "id": "CPuw46kBFdty"
   },
   "outputs": [],
   "source": [
    "# Notice that instead of iterating through our parameters and applying\n",
    "# an update rule, we're just using torch's built in SGD optimizer.\n",
    "opt = optim.SGD(mlr.parameters(), lr=LR)"
   ]
  },
  {
   "cell_type": "code",
   "execution_count": 61,
   "metadata": {
    "colab": {
     "base_uri": "https://localhost:8080/"
    },
    "executionInfo": {
     "elapsed": 10826,
     "status": "ok",
     "timestamp": 1660322553779,
     "user": {
      "displayName": "Mike Frantz",
      "userId": "08482506601269125384"
     },
     "user_tz": 420
    },
    "id": "Bf91-OmaAepE",
    "outputId": "f75d4128-a731-4ef5-b310-9efa7cc175fe"
   },
   "outputs": [
    {
     "name": "stdout",
     "output_type": "stream",
     "text": [
      "Epoch 0 Train loss: 2146.7415, Valid loss: 2605.9204\n",
      "Epoch 2000 Train loss: 4.1144, Valid loss: 4.1873\n",
      "Epoch 4000 Train loss: 4.1070, Valid loss: 4.1782\n",
      "Epoch 6000 Train loss: 4.1060, Valid loss: 4.1764\n",
      "Epoch 8000 Train loss: 4.1058, Valid loss: 4.1768\n",
      "Epoch 10000 Train loss: 4.1058, Valid loss: 4.1769\n",
      "Epoch 12000 Train loss: 4.1058, Valid loss: 4.1768\n",
      "Epoch 14000 Train loss: 4.1058, Valid loss: 4.1767\n",
      "Epoch 16000 Train loss: 4.1058, Valid loss: 4.1768\n",
      "Epoch 18000 Train loss: 4.1058, Valid loss: 4.1769\n"
     ]
    }
   ],
   "source": [
    "for i in range(N_EPOCHS):\n",
    "    yhat = mlr(X_train).squeeze()\n",
    "    loss = F.mse_loss(yhat, y_train)\n",
    "    loss.backward()\n",
    "    opt.step()\n",
    "    opt.zero_grad()\n",
    "    train_losses.append(loss.detach().item())\n",
    "\n",
    "    with torch.no_grad():\n",
    "        yhat = mlr(X_valid).squeeze()\n",
    "        valid_loss = F.mse_loss(yhat, y_valid)\n",
    "        valid_losses.append(loss.item())\n",
    "    \n",
    "    if i%(N_EPOCHS/10) == 0:\n",
    "        print(f\"Epoch {i} Train loss: {loss:.04f}, Valid loss: {valid_loss:.04f}\")"
   ]
  },
  {
   "cell_type": "code",
   "execution_count": 62,
   "metadata": {
    "colab": {
     "base_uri": "https://localhost:8080/",
     "height": 717
    },
    "executionInfo": {
     "elapsed": 771,
     "status": "ok",
     "timestamp": 1660322583998,
     "user": {
      "displayName": "Mike Frantz",
      "userId": "08482506601269125384"
     },
     "user_tz": 420
    },
    "id": "1FImQTDQA278",
    "outputId": "67f3be1c-b807-4a95-f95c-91b187e658af"
   },
   "outputs": [
    {
     "data": {
      "text/plain": [
       "<matplotlib.legend.Legend at 0x2c39bf067d0>"
      ]
     },
     "execution_count": 62,
     "metadata": {},
     "output_type": "execute_result"
    },
    {
     "data": {
      "image/png": "[encoded data removed]",
      "text/plain": [
       "<Figure size 1200x1200 with 1 Axes>"
      ]
     },
     "metadata": {},
     "output_type": "display_data"
    }
   ],
   "source": [
    "idx=10000\n",
    "fig, ax = plt.subplots(figsize=(12, 12))\n",
    "ax.plot(train_losses[:idx], label='Train', linewidth=3, alpha=0.5)\n",
    "ax.plot(valid_losses[:idx], ls='--', label='Valid')\n",
    "ax.legend()"
   ]
  },
  {
   "cell_type": "code",
   "execution_count": null,
   "metadata": {
    "id": "q-WNsgD3UZlj"
   },
   "outputs": [],
   "source": []
  }
 ],
 "metadata": {
  "colab": {
   "collapsed_sections": [],
   "name": "02_Our_first_neural_network_linear_regression.ipynb",
   "provenance": []
  },
  "kernelspec": {
   "display_name": "deepenv",
   "language": "python",
   "name": "python3"
  },
  "language_info": {
   "codemirror_mode": {
    "name": "ipython",
    "version": 3
   },
   "file_extension": ".py",
   "mimetype": "text/x-python",
   "name": "python",
   "nbconvert_exporter": "python",
   "pygments_lexer": "ipython3",
   "version": "3.10.4"
  }
 },
 "nbformat": 4,
 "nbformat_minor": 0
}
