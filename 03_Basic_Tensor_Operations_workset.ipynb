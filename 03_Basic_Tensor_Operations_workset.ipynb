{
 "cells": [
  {
   "cell_type": "code",
   "execution_count": 1,
   "metadata": {
    "executionInfo": {
     "elapsed": 353,
     "status": "ok",
     "timestamp": 1660447995716,
     "user": {
      "displayName": "Mike Frantz",
      "userId": "08482506601269125384"
     },
     "user_tz": 420
    },
    "id": "YN_OuApGfaNk"
   },
   "outputs": [],
   "source": [
    "import torch\n",
    "import matplotlib.pyplot as plt"
   ]
  },
  {
   "cell_type": "code",
   "execution_count": 2,
   "metadata": {
    "executionInfo": {
     "elapsed": 5,
     "status": "ok",
     "timestamp": 1660447997066,
     "user": {
      "displayName": "Mike Frantz",
      "userId": "08482506601269125384"
     },
     "user_tz": 420
    },
    "id": "wfgIgCezf7Np"
   },
   "outputs": [],
   "source": [
    "def describe_tensor(t):\n",
    "    \"\"\"\n",
    "    Describes a few basic elements about any torch.Tensor.\n",
    "    Prints out shape, number of elements, and rank.\n",
    "    \"\"\"\n",
    "    print(f\"Shape (Tensor.shape): {t.shape}\")\n",
    "    print(f\"Number of elements (Tensor.numel()): {t.numel()}\")\n",
    "    print(f\"Number of dimensions, or rank + 1 (Tensor.ndim): {t.ndim}\")\n",
    "    print(f\"Tensor type (Tensor.dtype): {t.dtype}\")"
   ]
  },
  {
   "cell_type": "code",
   "execution_count": 3,
   "metadata": {
    "colab": {
     "base_uri": "https://localhost:8080/"
    },
    "executionInfo": {
     "elapsed": 5,
     "status": "ok",
     "timestamp": 1660447997443,
     "user": {
      "displayName": "Mike Frantz",
      "userId": "08482506601269125384"
     },
     "user_tz": 420
    },
    "id": "oirVvHHfffQG",
    "outputId": "fcc60b7c-abe7-4257-86c7-b7eaa7ee7e11"
   },
   "outputs": [
    {
     "data": {
      "text/plain": [
       "tensor(1)"
      ]
     },
     "execution_count": 3,
     "metadata": {},
     "output_type": "execute_result"
    }
   ],
   "source": [
    "rank0tensor = torch.tensor(1)\n",
    "rank0tensor"
   ]
  },
  {
   "cell_type": "code",
   "execution_count": 4,
   "metadata": {
    "colab": {
     "base_uri": "https://localhost:8080/"
    },
    "executionInfo": {
     "elapsed": 3,
     "status": "ok",
     "timestamp": 1660447997819,
     "user": {
      "displayName": "Mike Frantz",
      "userId": "08482506601269125384"
     },
     "user_tz": 420
    },
    "id": "jesrSj-1f39S",
    "outputId": "1295194d-48df-44d9-f3b3-46e5064f6e5d"
   },
   "outputs": [
    {
     "name": "stdout",
     "output_type": "stream",
     "text": [
      "Shape (Tensor.shape): torch.Size([])\n",
      "Number of elements (Tensor.numel()): 1\n",
      "Number of dimensions, or rank + 1 (Tensor.ndim): 0\n",
      "Tensor type (Tensor.dtype): torch.int64\n"
     ]
    }
   ],
   "source": [
    "describe_tensor(rank0tensor)"
   ]
  },
  {
   "cell_type": "code",
   "execution_count": 5,
   "metadata": {
    "colab": {
     "base_uri": "https://localhost:8080/"
    },
    "executionInfo": {
     "elapsed": 7,
     "status": "ok",
     "timestamp": 1660447998266,
     "user": {
      "displayName": "Mike Frantz",
      "userId": "08482506601269125384"
     },
     "user_tz": 420
    },
    "id": "O4Yrr3jCfjmv",
    "outputId": "7f3625b2-9608-4ef5-9b5f-6405b2e7f1fb"
   },
   "outputs": [
    {
     "data": {
      "text/plain": [
       "tensor([1., 2., 3.])"
      ]
     },
     "execution_count": 5,
     "metadata": {},
     "output_type": "execute_result"
    }
   ],
   "source": [
    "rank1tensor = torch.tensor([1.,2,3])\n",
    "rank1tensor"
   ]
  },
  {
   "cell_type": "code",
   "execution_count": 6,
   "metadata": {
    "colab": {
     "base_uri": "https://localhost:8080/"
    },
    "executionInfo": {
     "elapsed": 5,
     "status": "ok",
     "timestamp": 1660447998267,
     "user": {
      "displayName": "Mike Frantz",
      "userId": "08482506601269125384"
     },
     "user_tz": 420
    },
    "id": "B-exG67igb13",
    "outputId": "454b08d6-e864-4814-cff0-f6bbf1795296"
   },
   "outputs": [
    {
     "name": "stdout",
     "output_type": "stream",
     "text": [
      "Shape (Tensor.shape): torch.Size([3])\n",
      "Number of elements (Tensor.numel()): 3\n",
      "Number of dimensions, or rank + 1 (Tensor.ndim): 1\n",
      "Tensor type (Tensor.dtype): torch.float32\n"
     ]
    }
   ],
   "source": [
    "describe_tensor(rank1tensor)"
   ]
  },
  {
   "cell_type": "code",
   "execution_count": 7,
   "metadata": {
    "colab": {
     "base_uri": "https://localhost:8080/"
    },
    "executionInfo": {
     "elapsed": 10,
     "status": "ok",
     "timestamp": 1660447998823,
     "user": {
      "displayName": "Mike Frantz",
      "userId": "08482506601269125384"
     },
     "user_tz": 420
    },
    "id": "OIWFlVYwfnkf",
    "outputId": "27099def-f89a-4db5-e915-d749d68344db"
   },
   "outputs": [
    {
     "data": {
      "text/plain": [
       "tensor([[1., 2., 3.],\n",
       "        [4., 5., 6.],\n",
       "        [7., 8., 9.]])"
      ]
     },
     "execution_count": 7,
     "metadata": {},
     "output_type": "execute_result"
    }
   ],
   "source": [
    "rank2tensor = torch.tensor(\n",
    "    [\n",
    "     [1.,2,3],\n",
    "     [4,5,6],\n",
    "     [7,8,9]\n",
    "    ]\n",
    ")\n",
    "rank2tensor"
   ]
  },
  {
   "cell_type": "code",
   "execution_count": 8,
   "metadata": {
    "colab": {
     "base_uri": "https://localhost:8080/"
    },
    "executionInfo": {
     "elapsed": 4,
     "status": "ok",
     "timestamp": 1660447998823,
     "user": {
      "displayName": "Mike Frantz",
      "userId": "08482506601269125384"
     },
     "user_tz": 420
    },
    "id": "QxbWJouzgenG",
    "outputId": "0ac636e1-3db3-4cba-95dc-da9a61b15dfa"
   },
   "outputs": [
    {
     "name": "stdout",
     "output_type": "stream",
     "text": [
      "Shape (Tensor.shape): torch.Size([3, 3])\n",
      "Number of elements (Tensor.numel()): 9\n",
      "Number of dimensions, or rank + 1 (Tensor.ndim): 2\n",
      "Tensor type (Tensor.dtype): torch.float32\n"
     ]
    }
   ],
   "source": [
    "describe_tensor(rank2tensor)"
   ]
  },
  {
   "cell_type": "code",
   "execution_count": 9,
   "metadata": {
    "colab": {
     "base_uri": "https://localhost:8080/"
    },
    "executionInfo": {
     "elapsed": 13,
     "status": "ok",
     "timestamp": 1660447999218,
     "user": {
      "displayName": "Mike Frantz",
      "userId": "08482506601269125384"
     },
     "user_tz": 420
    },
    "id": "Yu4OKI3fggue",
    "outputId": "1fca6d02-8b36-473f-8acc-fff4b907d2e4"
   },
   "outputs": [
    {
     "data": {
      "text/plain": [
       "tensor([[[0.9403, 0.5462, 0.8502],\n",
       "         [0.9382, 0.2306, 0.1332],\n",
       "         [0.6860, 0.9136, 0.7604]],\n",
       "\n",
       "        [[0.2195, 0.1595, 0.1573],\n",
       "         [0.1538, 0.5351, 0.2369],\n",
       "         [0.8156, 0.2990, 0.2940]],\n",
       "\n",
       "        [[0.6938, 0.5707, 0.0212],\n",
       "         [0.0380, 0.5908, 0.0971],\n",
       "         [0.6166, 0.5939, 0.3316]]])"
      ]
     },
     "execution_count": 9,
     "metadata": {},
     "output_type": "execute_result"
    }
   ],
   "source": [
    "rank3tensor = torch.rand(3, 3, 3)\n",
    "rank3tensor"
   ]
  },
  {
   "cell_type": "code",
   "execution_count": 10,
   "metadata": {
    "colab": {
     "base_uri": "https://localhost:8080/"
    },
    "executionInfo": {
     "elapsed": 11,
     "status": "ok",
     "timestamp": 1660447999218,
     "user": {
      "displayName": "Mike Frantz",
      "userId": "08482506601269125384"
     },
     "user_tz": 420
    },
    "id": "TOwckWKKgsz1",
    "outputId": "be602f84-b2b1-4220-899c-b4fd7865a2af"
   },
   "outputs": [
    {
     "name": "stdout",
     "output_type": "stream",
     "text": [
      "Shape (Tensor.shape): torch.Size([3, 3, 3])\n",
      "Number of elements (Tensor.numel()): 27\n",
      "Number of dimensions, or rank + 1 (Tensor.ndim): 3\n",
      "Tensor type (Tensor.dtype): torch.float32\n"
     ]
    }
   ],
   "source": [
    "describe_tensor(rank3tensor)"
   ]
  },
  {
   "cell_type": "code",
   "execution_count": 11,
   "metadata": {
    "colab": {
     "base_uri": "https://localhost:8080/"
    },
    "executionInfo": {
     "elapsed": 8,
     "status": "ok",
     "timestamp": 1660447999219,
     "user": {
      "displayName": "Mike Frantz",
      "userId": "08482506601269125384"
     },
     "user_tz": 420
    },
    "id": "ORXrY8XRgxUs",
    "outputId": "85b8767f-a04f-4d16-a6df-2d9fc923936b"
   },
   "outputs": [
    {
     "name": "stdout",
     "output_type": "stream",
     "text": [
      "Shape (Tensor.shape): torch.Size([3, 3, 3, 3, 3, 3, 3, 3, 3, 3])\n",
      "Number of elements (Tensor.numel()): 59049\n",
      "Number of dimensions, or rank + 1 (Tensor.ndim): 10\n",
      "Tensor type (Tensor.dtype): torch.float32\n"
     ]
    }
   ],
   "source": [
    "# We won't try to visualize this tensor since it doesn't fit neatly into my brain.\n",
    "# This is just to show we can make big tensors, even if we don't have a practical use for them.\n",
    "n_dim = 10\n",
    "describe_tensor(torch.randn(*(tuple([3] * n_dim))))"
   ]
  },
  {
   "cell_type": "markdown",
   "metadata": {
    "id": "Rf509u1C4ZFb"
   },
   "source": [
    "# Exercise 3.1: Torch `dtype`s\n",
    "\n",
    "Read through the [documentation](https://pytorch.org/docs/stable/tensor_attributes.html#torch-dtype) on different tensor types.\n",
    "\n",
    "Create a function that uses the [`Tensor.element_size()`](https://pytorch.org/docs/stable/generated/torch.Tensor.element_size.html#) and `Tensor.numel()` methods to calculate the memory footprint of a tensor in megabytes.\n",
    "There are 1e6 bytes in a megabyte.\n",
    "Then, create at least 3 tensors with the same shape but different `dtype`s like `torch.float16` and `torch.float32`.\n",
    "What's the difference in the memory footprints of the following tensors?\n",
    "\n",
    "<!-- startquestion -->\n"
   ]
  },
  {
   "cell_type": "code",
   "execution_count": 13,
   "metadata": {
    "executionInfo": {
     "elapsed": 5,
     "status": "ok",
     "timestamp": 1660447999219,
     "user": {
      "displayName": "Mike Frantz",
      "userId": "08482506601269125384"
     },
     "user_tz": 420
    },
    "id": "ZZBZEr1J6s6F"
   },
   "outputs": [],
   "source": [
    "def memory_footprint(tensor):\n",
    "    #raise NotImplementedError('Implement this function!')\n",
    "    return tensor.numel() * tensor.element_size()"
   ]
  },
  {
   "cell_type": "code",
   "execution_count": 14,
   "metadata": {
    "colab": {
     "base_uri": "https://localhost:8080/"
    },
    "executionInfo": {
     "elapsed": 3,
     "status": "ok",
     "timestamp": 1660447999590,
     "user": {
      "displayName": "Mike Frantz",
      "userId": "08482506601269125384"
     },
     "user_tz": 420
    },
    "id": "cLYIUTlkvaTr",
    "outputId": "5942b613-8d27-4c68-907a-745ceca4f743"
   },
   "outputs": [
    {
     "name": "stdout",
     "output_type": "stream",
     "text": [
      "\n",
      "    Tensor:\n",
      "    100.0\n",
      "    dtype: torch.float16\n",
      "    memory footprint (MB): 2\n",
      "    ----------------\n",
      "    \n",
      "\n",
      "    Tensor:\n",
      "    100.0\n",
      "    dtype: torch.float32\n",
      "    memory footprint (MB): 4\n",
      "    ----------------\n",
      "    \n",
      "\n",
      "    Tensor:\n",
      "    100\n",
      "    dtype: torch.int32\n",
      "    memory footprint (MB): 4\n",
      "    ----------------\n",
      "    \n",
      "\n",
      "    Tensor:\n",
      "    100\n",
      "    dtype: torch.int64\n",
      "    memory footprint (MB): 8\n",
      "    ----------------\n",
      "    \n"
     ]
    }
   ],
   "source": [
    "tensors = [\n",
    "    torch.tensor(100, dtype=torch.float16),\n",
    "    torch.tensor(100, dtype=torch.float32),\n",
    "    torch.tensor(100, dtype=torch.int32),\n",
    "    torch.tensor(100, dtype=torch.long) # I think this is int64\n",
    "]\n",
    "\n",
    "for t in tensors:\n",
    "    print(f\"\"\"\n",
    "    Tensor:\n",
    "    {t}\n",
    "    dtype: {t.dtype}\n",
    "    memory footprint (MB): {memory_footprint(t)}\n",
    "    ----------------\n",
    "    \"\"\")"
   ]
  },
  {
   "cell_type": "code",
   "execution_count": 15,
   "metadata": {
    "colab": {
     "base_uri": "https://localhost:8080/"
    },
    "executionInfo": {
     "elapsed": 12,
     "status": "ok",
     "timestamp": 1660448001317,
     "user": {
      "displayName": "Mike Frantz",
      "userId": "08482506601269125384"
     },
     "user_tz": 420
    },
    "id": "PXmQt7lWCUtg",
    "outputId": "21b07339-322b-40bc-daf1-8d2074544437"
   },
   "outputs": [
    {
     "data": {
      "text/plain": [
       "tensor([1., 1., 1., 1.])"
      ]
     },
     "execution_count": 15,
     "metadata": {},
     "output_type": "execute_result"
    }
   ],
   "source": [
    "x = torch.ones(4).float()\n",
    "x"
   ]
  },
  {
   "cell_type": "code",
   "execution_count": 16,
   "metadata": {
    "colab": {
     "base_uri": "https://localhost:8080/"
    },
    "executionInfo": {
     "elapsed": 6,
     "status": "ok",
     "timestamp": 1660448001317,
     "user": {
      "displayName": "Mike Frantz",
      "userId": "08482506601269125384"
     },
     "user_tz": 420
    },
    "id": "tub5MGNWDBRa",
    "outputId": "4f2e6030-f594-4af0-911b-89b6b20b4998"
   },
   "outputs": [
    {
     "data": {
      "text/plain": [
       "tensor([4., 4., 4., 4.])"
      ]
     },
     "execution_count": 16,
     "metadata": {},
     "output_type": "execute_result"
    }
   ],
   "source": [
    "x * 4"
   ]
  },
  {
   "cell_type": "code",
   "execution_count": 17,
   "metadata": {
    "colab": {
     "base_uri": "https://localhost:8080/"
    },
    "executionInfo": {
     "elapsed": 9,
     "status": "ok",
     "timestamp": 1660448001867,
     "user": {
      "displayName": "Mike Frantz",
      "userId": "08482506601269125384"
     },
     "user_tz": 420
    },
    "id": "0oub394LDEBl",
    "outputId": "6d3474c3-481b-4686-b137-2cd39200d2d4"
   },
   "outputs": [
    {
     "data": {
      "text/plain": [
       "tensor([5., 5., 5., 5.])"
      ]
     },
     "execution_count": 17,
     "metadata": {},
     "output_type": "execute_result"
    }
   ],
   "source": [
    "x + 4"
   ]
  },
  {
   "cell_type": "code",
   "execution_count": 18,
   "metadata": {
    "colab": {
     "base_uri": "https://localhost:8080/"
    },
    "executionInfo": {
     "elapsed": 9,
     "status": "ok",
     "timestamp": 1660448001868,
     "user": {
      "displayName": "Mike Frantz",
      "userId": "08482506601269125384"
     },
     "user_tz": 420
    },
    "id": "TtFlMX5LDFdz",
    "outputId": "05db6473-8d22-4144-f9d7-d513543d05ff"
   },
   "outputs": [
    {
     "data": {
      "text/plain": [
       "tensor([-1., -1., -1., -1.])"
      ]
     },
     "execution_count": 18,
     "metadata": {},
     "output_type": "execute_result"
    }
   ],
   "source": [
    "x - 2"
   ]
  },
  {
   "cell_type": "code",
   "execution_count": 19,
   "metadata": {
    "colab": {
     "base_uri": "https://localhost:8080/"
    },
    "executionInfo": {
     "elapsed": 6,
     "status": "ok",
     "timestamp": 1660448001868,
     "user": {
      "displayName": "Mike Frantz",
      "userId": "08482506601269125384"
     },
     "user_tz": 420
    },
    "id": "MEnlgHOuDGlQ",
    "outputId": "8e9e4ae8-0bbb-4035-b9aa-2aa50b68abd7"
   },
   "outputs": [
    {
     "data": {
      "text/plain": [
       "tensor([0.2500, 0.2500, 0.2500, 0.2500])"
      ]
     },
     "execution_count": 19,
     "metadata": {},
     "output_type": "execute_result"
    }
   ],
   "source": [
    "x / 4"
   ]
  },
  {
   "cell_type": "code",
   "execution_count": 20,
   "metadata": {
    "colab": {
     "base_uri": "https://localhost:8080/"
    },
    "executionInfo": {
     "elapsed": 311,
     "status": "ok",
     "timestamp": 1660448664683,
     "user": {
      "displayName": "Mike Frantz",
      "userId": "08482506601269125384"
     },
     "user_tz": 420
    },
    "id": "TdU_O2ORDl35",
    "outputId": "7faf8afa-82d8-4019-b97f-9201eff40904"
   },
   "outputs": [
    {
     "data": {
      "text/plain": [
       "(tensor([[0.0883, 0.5798],\n",
       "         [0.4282, 0.4715]]),\n",
       " tensor([[0.6815, 0.8378],\n",
       "         [0.3359, 0.2826]]))"
      ]
     },
     "execution_count": 20,
     "metadata": {},
     "output_type": "execute_result"
    }
   ],
   "source": [
    "x = torch.rand(2,2)\n",
    "y = torch.rand(2,2)\n",
    "x, y"
   ]
  },
  {
   "cell_type": "code",
   "execution_count": 21,
   "metadata": {
    "colab": {
     "base_uri": "https://localhost:8080/"
    },
    "executionInfo": {
     "elapsed": 375,
     "status": "ok",
     "timestamp": 1660448678852,
     "user": {
      "displayName": "Mike Frantz",
      "userId": "08482506601269125384"
     },
     "user_tz": 420
    },
    "id": "P3ybugeRDrCl",
    "outputId": "cbf84260-7d70-4008-c0cd-744b15d45ff1"
   },
   "outputs": [
    {
     "data": {
      "text/plain": [
       "tensor([[0.7698, 1.4176],\n",
       "        [0.7641, 0.7542]])"
      ]
     },
     "execution_count": 21,
     "metadata": {},
     "output_type": "execute_result"
    }
   ],
   "source": [
    "x + y"
   ]
  },
  {
   "cell_type": "code",
   "execution_count": 22,
   "metadata": {
    "colab": {
     "base_uri": "https://localhost:8080/"
    },
    "executionInfo": {
     "elapsed": 309,
     "status": "ok",
     "timestamp": 1660448682876,
     "user": {
      "displayName": "Mike Frantz",
      "userId": "08482506601269125384"
     },
     "user_tz": 420
    },
    "id": "zXZUTYLHDsV7",
    "outputId": "99e91700-1a29-4ff8-a0d2-18c1175f01f1"
   },
   "outputs": [
    {
     "data": {
      "text/plain": [
       "tensor([[-0.5932, -0.2580],\n",
       "        [ 0.0923,  0.1889]])"
      ]
     },
     "execution_count": 22,
     "metadata": {},
     "output_type": "execute_result"
    }
   ],
   "source": [
    "x - y"
   ]
  },
  {
   "cell_type": "code",
   "execution_count": 23,
   "metadata": {
    "colab": {
     "base_uri": "https://localhost:8080/"
    },
    "executionInfo": {
     "elapsed": 306,
     "status": "ok",
     "timestamp": 1660448686442,
     "user": {
      "displayName": "Mike Frantz",
      "userId": "08482506601269125384"
     },
     "user_tz": 420
    },
    "id": "MtCXRnFbDxZ2",
    "outputId": "6b470362-b936-488c-b235-60fbe7e573cd"
   },
   "outputs": [
    {
     "data": {
      "text/plain": [
       "tensor([[0.0602, 0.4858],\n",
       "        [0.1438, 0.1333]])"
      ]
     },
     "execution_count": 23,
     "metadata": {},
     "output_type": "execute_result"
    }
   ],
   "source": [
    "x * y"
   ]
  },
  {
   "cell_type": "code",
   "execution_count": 24,
   "metadata": {
    "colab": {
     "base_uri": "https://localhost:8080/"
    },
    "executionInfo": {
     "elapsed": 289,
     "status": "ok",
     "timestamp": 1660448689284,
     "user": {
      "displayName": "Mike Frantz",
      "userId": "08482506601269125384"
     },
     "user_tz": 420
    },
    "id": "Onlau0_tDysg",
    "outputId": "296e3284-0d5c-4878-b09d-cc6927bebdf4"
   },
   "outputs": [
    {
     "data": {
      "text/plain": [
       "tensor([[0.1296, 0.6920],\n",
       "        [1.2749, 1.6686]])"
      ]
     },
     "execution_count": 24,
     "metadata": {},
     "output_type": "execute_result"
    }
   ],
   "source": [
    "x / y"
   ]
  },
  {
   "cell_type": "code",
   "execution_count": 25,
   "metadata": {
    "colab": {
     "base_uri": "https://localhost:8080/"
    },
    "executionInfo": {
     "elapsed": 4,
     "status": "ok",
     "timestamp": 1660448005774,
     "user": {
      "displayName": "Mike Frantz",
      "userId": "08482506601269125384"
     },
     "user_tz": 420
    },
    "id": "RalqgfDjD0Nx",
    "outputId": "8c065448-f1f4-4384-8cac-831ae1f0c487"
   },
   "outputs": [
    {
     "data": {
      "text/plain": [
       "(tensor([[0.1830, 0.1399, 0.1740, 0.7209],\n",
       "         [0.7303, 0.1133, 0.3366, 0.5062]]),\n",
       " tensor([0.0956, 0.3148, 0.9018, 0.6841]))"
      ]
     },
     "execution_count": 25,
     "metadata": {},
     "output_type": "execute_result"
    }
   ],
   "source": [
    "x = torch.rand(2, 4)\n",
    "y = torch.rand(4)\n",
    "x, y"
   ]
  },
  {
   "cell_type": "code",
   "execution_count": 26,
   "metadata": {
    "colab": {
     "base_uri": "https://localhost:8080/"
    },
    "executionInfo": {
     "elapsed": 4,
     "status": "ok",
     "timestamp": 1660448006235,
     "user": {
      "displayName": "Mike Frantz",
      "userId": "08482506601269125384"
     },
     "user_tz": 420
    },
    "id": "weIf9RNyU8wr",
    "outputId": "078eed4a-c768-45f1-8bd3-0783224f875a"
   },
   "outputs": [
    {
     "data": {
      "text/plain": [
       "tensor([[0.0175, 0.0440, 0.1570, 0.4932],\n",
       "        [0.0698, 0.0357, 0.3035, 0.3463]])"
      ]
     },
     "execution_count": 26,
     "metadata": {},
     "output_type": "execute_result"
    }
   ],
   "source": [
    "torch.stack([x[0] * y, x[1] * y])"
   ]
  },
  {
   "cell_type": "code",
   "execution_count": 27,
   "metadata": {
    "colab": {
     "base_uri": "https://localhost:8080/"
    },
    "executionInfo": {
     "elapsed": 4,
     "status": "ok",
     "timestamp": 1660448007110,
     "user": {
      "displayName": "Mike Frantz",
      "userId": "08482506601269125384"
     },
     "user_tz": 420
    },
    "id": "Pqk2_U_sD4JW",
    "outputId": "2a603478-23c6-4a4f-9dce-c98b7c3b07f5"
   },
   "outputs": [
    {
     "data": {
      "text/plain": [
       "tensor([[0.0175, 0.0440, 0.1570, 0.4932],\n",
       "        [0.0698, 0.0357, 0.3035, 0.3463]])"
      ]
     },
     "execution_count": 27,
     "metadata": {},
     "output_type": "execute_result"
    }
   ],
   "source": [
    "x * y"
   ]
  },
  {
   "cell_type": "code",
   "execution_count": 28,
   "metadata": {
    "colab": {
     "base_uri": "https://localhost:8080/"
    },
    "executionInfo": {
     "elapsed": 2,
     "status": "ok",
     "timestamp": 1660448007542,
     "user": {
      "displayName": "Mike Frantz",
      "userId": "08482506601269125384"
     },
     "user_tz": 420
    },
    "id": "IUf3fJFyEn4l",
    "outputId": "b1991429-5386-4b14-e7b7-4ba4e1c4e6a2"
   },
   "outputs": [
    {
     "data": {
      "text/plain": [
       "tensor([[[0.0118, 0.3770, 0.9482, 0.6727],\n",
       "         [0.3932, 0.6251, 0.7965, 0.7798]],\n",
       "\n",
       "        [[0.9786, 0.3617, 0.1546, 0.6452],\n",
       "         [0.4573, 0.1337, 0.0762, 0.7056]],\n",
       "\n",
       "        [[0.2293, 0.0492, 0.0166, 0.3097],\n",
       "         [0.9382, 0.5977, 0.4450, 0.0553]]])"
      ]
     },
     "execution_count": 28,
     "metadata": {},
     "output_type": "execute_result"
    }
   ],
   "source": [
    "x = torch.rand(3, 2, 4)\n",
    "x"
   ]
  },
  {
   "cell_type": "code",
   "execution_count": 29,
   "metadata": {
    "colab": {
     "base_uri": "https://localhost:8080/"
    },
    "executionInfo": {
     "elapsed": 2,
     "status": "ok",
     "timestamp": 1660448008264,
     "user": {
      "displayName": "Mike Frantz",
      "userId": "08482506601269125384"
     },
     "user_tz": 420
    },
    "id": "n-8_uK76VQaZ",
    "outputId": "6d05f786-e8ec-4f9f-80ca-c861f839b30b"
   },
   "outputs": [
    {
     "data": {
      "text/plain": [
       "tensor([[[0.0011, 0.1187, 0.8551, 0.4602],\n",
       "         [0.0376, 0.1968, 0.7183, 0.5335]],\n",
       "\n",
       "        [[0.0935, 0.1138, 0.1394, 0.4414],\n",
       "         [0.0437, 0.0421, 0.0687, 0.4827]],\n",
       "\n",
       "        [[0.0219, 0.0155, 0.0150, 0.2119],\n",
       "         [0.0897, 0.1881, 0.4013, 0.0378]]])"
      ]
     },
     "execution_count": 29,
     "metadata": {},
     "output_type": "execute_result"
    }
   ],
   "source": [
    "torch.stack([torch.stack([i * y for i in a]) for a in x])"
   ]
  },
  {
   "cell_type": "code",
   "execution_count": 30,
   "metadata": {
    "colab": {
     "base_uri": "https://localhost:8080/"
    },
    "executionInfo": {
     "elapsed": 2,
     "status": "ok",
     "timestamp": 1660448008828,
     "user": {
      "displayName": "Mike Frantz",
      "userId": "08482506601269125384"
     },
     "user_tz": 420
    },
    "id": "BdkIij6qJmQ_",
    "outputId": "0065d291-3362-473f-97b5-87da00537a47"
   },
   "outputs": [
    {
     "data": {
      "text/plain": [
       "tensor([[[0.0011, 0.1187, 0.8551, 0.4602],\n",
       "         [0.0376, 0.1968, 0.7183, 0.5335]],\n",
       "\n",
       "        [[0.0935, 0.1138, 0.1394, 0.4414],\n",
       "         [0.0437, 0.0421, 0.0687, 0.4827]],\n",
       "\n",
       "        [[0.0219, 0.0155, 0.0150, 0.2119],\n",
       "         [0.0897, 0.1881, 0.4013, 0.0378]]])"
      ]
     },
     "execution_count": 30,
     "metadata": {},
     "output_type": "execute_result"
    }
   ],
   "source": [
    "x * y"
   ]
  },
  {
   "cell_type": "code",
   "execution_count": 31,
   "metadata": {
    "executionInfo": {
     "elapsed": 1,
     "status": "ok",
     "timestamp": 1660448009714,
     "user": {
      "displayName": "Mike Frantz",
      "userId": "08482506601269125384"
     },
     "user_tz": 420
    },
    "id": "BtQjJwU8pygJ"
   },
   "outputs": [],
   "source": [
    "x = torch.tensor([1, 2, 3, 4])\n",
    "y = torch.tensor([2, 3, 4, 5])"
   ]
  },
  {
   "cell_type": "code",
   "execution_count": 32,
   "metadata": {
    "colab": {
     "base_uri": "https://localhost:8080/"
    },
    "executionInfo": {
     "elapsed": 7,
     "status": "ok",
     "timestamp": 1660448010326,
     "user": {
      "displayName": "Mike Frantz",
      "userId": "08482506601269125384"
     },
     "user_tz": 420
    },
    "id": "C4sxHFjCKzrD",
    "outputId": "5fcfbc30-7a28-446a-b4c0-24bdd4638eef"
   },
   "outputs": [
    {
     "data": {
      "text/plain": [
       "tensor(40)"
      ]
     },
     "execution_count": 32,
     "metadata": {},
     "output_type": "execute_result"
    }
   ],
   "source": [
    "# Let's do this using element-wise operations\n",
    "(x * y).sum()"
   ]
  },
  {
   "cell_type": "code",
   "execution_count": 33,
   "metadata": {
    "colab": {
     "base_uri": "https://localhost:8080/"
    },
    "executionInfo": {
     "elapsed": 19,
     "status": "ok",
     "timestamp": 1660448010340,
     "user": {
      "displayName": "Mike Frantz",
      "userId": "08482506601269125384"
     },
     "user_tz": 420
    },
    "id": "XhUqjR2-p-M_",
    "outputId": "b351cd1f-aa9d-46da-e5e7-4fd9983bbd66"
   },
   "outputs": [
    {
     "data": {
      "text/plain": [
       "tensor(40)"
      ]
     },
     "execution_count": 33,
     "metadata": {},
     "output_type": "execute_result"
    }
   ],
   "source": [
    "# torch.matmul does matrix multiplication.\n",
    "torch.matmul(x, y)"
   ]
  },
  {
   "cell_type": "code",
   "execution_count": 34,
   "metadata": {
    "colab": {
     "base_uri": "https://localhost:8080/"
    },
    "executionInfo": {
     "elapsed": 4,
     "status": "ok",
     "timestamp": 1660448010740,
     "user": {
      "displayName": "Mike Frantz",
      "userId": "08482506601269125384"
     },
     "user_tz": 420
    },
    "id": "uaDdfNlfp9HV",
    "outputId": "bd345bd6-e783-48d7-bcc3-89f4d7432b0c"
   },
   "outputs": [
    {
     "data": {
      "text/plain": [
       "tensor(40)"
      ]
     },
     "execution_count": 34,
     "metadata": {},
     "output_type": "execute_result"
    }
   ],
   "source": [
    "# @ is shorthand for matrix multiplication as well.\n",
    "x@y"
   ]
  },
  {
   "cell_type": "code",
   "execution_count": 35,
   "metadata": {
    "colab": {
     "base_uri": "https://localhost:8080/"
    },
    "executionInfo": {
     "elapsed": 3,
     "status": "ok",
     "timestamp": 1660448011316,
     "user": {
      "displayName": "Mike Frantz",
      "userId": "08482506601269125384"
     },
     "user_tz": 420
    },
    "id": "b5hCp0rfLfSt",
    "outputId": "ebb2b7a4-b695-4c11-e3a1-0bfff91ec665"
   },
   "outputs": [
    {
     "data": {
      "text/plain": [
       "tensor(40)"
      ]
     },
     "execution_count": 35,
     "metadata": {},
     "output_type": "execute_result"
    }
   ],
   "source": [
    "y@x"
   ]
  },
  {
   "cell_type": "code",
   "execution_count": 36,
   "metadata": {
    "executionInfo": {
     "elapsed": 2,
     "status": "ok",
     "timestamp": 1660448012498,
     "user": {
      "displayName": "Mike Frantz",
      "userId": "08482506601269125384"
     },
     "user_tz": 420
    },
    "id": "AcaOBkxOYDlt"
   },
   "outputs": [],
   "source": [
    "assert x@y == y@x == torch.matmul(x,y) == (x * y).sum()"
   ]
  },
  {
   "cell_type": "code",
   "execution_count": 37,
   "metadata": {
    "executionInfo": {
     "elapsed": 6,
     "status": "ok",
     "timestamp": 1660448012921,
     "user": {
      "displayName": "Mike Frantz",
      "userId": "08482506601269125384"
     },
     "user_tz": 420
    },
    "id": "KBjsj76RqvR0"
   },
   "outputs": [],
   "source": [
    "X = torch.tensor([[1, 2], [3, 4]])\n",
    "Y = torch.tensor([[2, 3, 4], [5, 6, 7]])"
   ]
  },
  {
   "cell_type": "code",
   "execution_count": 38,
   "metadata": {
    "colab": {
     "base_uri": "https://localhost:8080/"
    },
    "executionInfo": {
     "elapsed": 6,
     "status": "ok",
     "timestamp": 1660448012921,
     "user": {
      "displayName": "Mike Frantz",
      "userId": "08482506601269125384"
     },
     "user_tz": 420
    },
    "id": "tyb7F-9Hs40g",
    "outputId": "35f95083-1e04-4ed2-8e1f-22c7dcedc03a"
   },
   "outputs": [
    {
     "data": {
      "text/plain": [
       "tensor([[12, 15, 18],\n",
       "        [26, 33, 40]])"
      ]
     },
     "execution_count": 38,
     "metadata": {},
     "output_type": "execute_result"
    }
   ],
   "source": [
    "X@Y"
   ]
  },
  {
   "cell_type": "code",
   "execution_count": 39,
   "metadata": {
    "colab": {
     "base_uri": "https://localhost:8080/"
    },
    "executionInfo": {
     "elapsed": 6,
     "status": "ok",
     "timestamp": 1660448012922,
     "user": {
      "displayName": "Mike Frantz",
      "userId": "08482506601269125384"
     },
     "user_tz": 420
    },
    "id": "osQMTXao5n08",
    "outputId": "048a50b1-9847-40d0-d4a6-aef04d8f34a3"
   },
   "outputs": [
    {
     "data": {
      "text/plain": [
       "torch.Size([16, 3, 3, 12])"
      ]
     },
     "execution_count": 39,
     "metadata": {},
     "output_type": "execute_result"
    }
   ],
   "source": [
    "(torch.randn(16, 3, 3, 3) @ torch.randn(3, 3, 12)).shape"
   ]
  },
  {
   "cell_type": "markdown",
   "metadata": {
    "id": "uXh7RbC6tGsp"
   },
   "source": [
    "# Exercise 3.2: matrix multiplication\n",
    "\n",
    "Previously, we tried to multiply `X@Y`.\n",
    "Will `Y@X` work?\n",
    "Why or why not?\n",
    "\n",
    "In the cell below, define `B`  using `torch.rand` so that `A@B` returns a tensor with shape (4, 7).\n",
    "\n",
    "<!-- startquestion -->"
   ]
  },
  {
   "cell_type": "code",
   "execution_count": 42,
   "metadata": {
    "executionInfo": {
     "elapsed": 3,
     "status": "ok",
     "timestamp": 1660448012922,
     "user": {
      "displayName": "Mike Frantz",
      "userId": "08482506601269125384"
     },
     "user_tz": 420
    },
    "id": "3HgK5T6RtN3n"
   },
   "outputs": [
    {
     "data": {
      "text/plain": [
       "tensor([[0.0460, 0.1296, 0.1004, 0.0390, 0.1377, 0.1051, 0.0745],\n",
       "        [0.4529, 1.1853, 1.0740, 1.0306, 1.5526, 1.1359, 0.8327],\n",
       "        [0.0490, 0.1163, 0.1275, 0.1966, 0.1939, 0.1362, 0.1032],\n",
       "        [0.1661, 0.4319, 0.3965, 0.3975, 0.5753, 0.4196, 0.3084]])"
      ]
     },
     "execution_count": 42,
     "metadata": {},
     "output_type": "execute_result"
    }
   ],
   "source": [
    "# In the cell below, define `B`  using `torch.rand` so that `A@B` returns a tensor with shape (4, 7).\n",
    "\n",
    "A = torch.rand(4, 2)\n",
    "B = torch.rand(2, 7)\n",
    "A@B"
   ]
  },
  {
   "cell_type": "code",
   "execution_count": 43,
   "metadata": {
    "executionInfo": {
     "elapsed": 4,
     "status": "ok",
     "timestamp": 1660448013686,
     "user": {
      "displayName": "Mike Frantz",
      "userId": "08482506601269125384"
     },
     "user_tz": 420
    },
    "id": "_d_BiKLJD0s9"
   },
   "outputs": [],
   "source": [
    "if not isinstance(B, type(...)):\n",
    "    assert (A@B).shape == (4, 7)\n",
    "else:\n",
    "    print('Please define B such that (A@B).shape = (4, 7)')"
   ]
  },
  {
   "cell_type": "code",
   "execution_count": 44,
   "metadata": {
    "colab": {
     "base_uri": "https://localhost:8080/"
    },
    "executionInfo": {
     "elapsed": 2,
     "status": "ok",
     "timestamp": 1660448014874,
     "user": {
      "displayName": "Mike Frantz",
      "userId": "08482506601269125384"
     },
     "user_tz": 420
    },
    "id": "orXRC7LsrRBv",
    "outputId": "dc07f58b-1333-449e-fb86-14eabc1fb655"
   },
   "outputs": [
    {
     "data": {
      "text/plain": [
       "tensor([[[ 0,  1,  2],\n",
       "         [ 3,  4,  5],\n",
       "         [ 6,  7,  8]],\n",
       "\n",
       "        [[ 9, 10, 11],\n",
       "         [12, 13, 14],\n",
       "         [15, 16, 17]],\n",
       "\n",
       "        [[18, 19, 20],\n",
       "         [21, 22, 23],\n",
       "         [24, 25, 26]]])"
      ]
     },
     "execution_count": 44,
     "metadata": {},
     "output_type": "execute_result"
    }
   ],
   "source": [
    "X = torch.tensor(list(range(27))).reshape(3,3,3)\n",
    "X"
   ]
  },
  {
   "cell_type": "code",
   "execution_count": 45,
   "metadata": {
    "colab": {
     "base_uri": "https://localhost:8080/"
    },
    "executionInfo": {
     "elapsed": 3,
     "status": "ok",
     "timestamp": 1660448015235,
     "user": {
      "displayName": "Mike Frantz",
      "userId": "08482506601269125384"
     },
     "user_tz": 420
    },
    "id": "Ow1QpNZFrW5l",
    "outputId": "52b59b8b-375f-4791-e27d-32675e3755ed"
   },
   "outputs": [
    {
     "data": {
      "text/plain": [
       "tensor(351)"
      ]
     },
     "execution_count": 45,
     "metadata": {},
     "output_type": "execute_result"
    }
   ],
   "source": [
    "X.sum()"
   ]
  },
  {
   "cell_type": "code",
   "execution_count": 46,
   "metadata": {
    "colab": {
     "base_uri": "https://localhost:8080/"
    },
    "executionInfo": {
     "elapsed": 3,
     "status": "ok",
     "timestamp": 1660448016055,
     "user": {
      "displayName": "Mike Frantz",
      "userId": "08482506601269125384"
     },
     "user_tz": 420
    },
    "id": "YfZ1IVRBrdC9",
    "outputId": "bf13c717-aab9-44ab-e6a2-073b2c49df1f"
   },
   "outputs": [
    {
     "data": {
      "text/plain": [
       "tensor([[27, 30, 33],\n",
       "        [36, 39, 42],\n",
       "        [45, 48, 51]])"
      ]
     },
     "execution_count": 46,
     "metadata": {},
     "output_type": "execute_result"
    }
   ],
   "source": [
    "# Change the dim parameter to see how the results change\n",
    "X.sum(dim=0)"
   ]
  },
  {
   "cell_type": "code",
   "execution_count": 47,
   "metadata": {
    "colab": {
     "base_uri": "https://localhost:8080/"
    },
    "executionInfo": {
     "elapsed": 2,
     "status": "ok",
     "timestamp": 1660448017284,
     "user": {
      "displayName": "Mike Frantz",
      "userId": "08482506601269125384"
     },
     "user_tz": 420
    },
    "id": "93qmY8pv8Lej",
    "outputId": "baec24d9-71a5-4f98-c1b5-671fccbf0d05"
   },
   "outputs": [
    {
     "data": {
      "text/plain": [
       "tensor([ 0,  1,  2,  3,  4,  5,  6,  7,  8,  9, 10, 11, 12, 13, 14, 15, 16, 17,\n",
       "        18, 19, 20, 21, 22, 23, 24, 25, 26])"
      ]
     },
     "execution_count": 47,
     "metadata": {},
     "output_type": "execute_result"
    }
   ],
   "source": [
    "# Create a vector\n",
    "X = torch.arange(0, 3*3*3)\n",
    "X"
   ]
  },
  {
   "cell_type": "code",
   "execution_count": 48,
   "metadata": {
    "colab": {
     "base_uri": "https://localhost:8080/"
    },
    "executionInfo": {
     "elapsed": 6,
     "status": "ok",
     "timestamp": 1660448017656,
     "user": {
      "displayName": "Mike Frantz",
      "userId": "08482506601269125384"
     },
     "user_tz": 420
    },
    "id": "3I8zUv138Lek",
    "outputId": "bdd04bc9-89bf-4e6c-9269-a116bf30cc80"
   },
   "outputs": [
    {
     "data": {
      "text/plain": [
       "tensor([[[ 0,  1,  2],\n",
       "         [ 3,  4,  5],\n",
       "         [ 6,  7,  8]],\n",
       "\n",
       "        [[ 9, 10, 11],\n",
       "         [12, 13, 14],\n",
       "         [15, 16, 17]],\n",
       "\n",
       "        [[18, 19, 20],\n",
       "         [21, 22, 23],\n",
       "         [24, 25, 26]]])"
      ]
     },
     "execution_count": 48,
     "metadata": {},
     "output_type": "execute_result"
    }
   ],
   "source": [
    "# Reshape it into a 3x3x3 to be \"image-like\"\n",
    "X = X.reshape(3, 3, 3)\n",
    "X"
   ]
  },
  {
   "cell_type": "code",
   "execution_count": 49,
   "metadata": {
    "colab": {
     "base_uri": "https://localhost:8080/"
    },
    "executionInfo": {
     "elapsed": 5,
     "status": "ok",
     "timestamp": 1660448018032,
     "user": {
      "displayName": "Mike Frantz",
      "userId": "08482506601269125384"
     },
     "user_tz": 420
    },
    "id": "aAAyqkXR8Lek",
    "outputId": "bad3dc0b-dbdf-4373-e0af-b8c552e156c4"
   },
   "outputs": [
    {
     "data": {
      "text/plain": [
       "(torch.Size([3, 3, 3]), torch.Size([1, 3, 3, 3]))"
      ]
     },
     "execution_count": 49,
     "metadata": {},
     "output_type": "execute_result"
    }
   ],
   "source": [
    "# How do we add a \"batch_dim\"?\n",
    "# Unsqueeze addes an empty dimension\n",
    "# Squeeze takes away empty dimensions\n",
    "X.shape, X.unsqueeze(0).shape"
   ]
  },
  {
   "cell_type": "code",
   "execution_count": 50,
   "metadata": {
    "colab": {
     "base_uri": "https://localhost:8080/"
    },
    "executionInfo": {
     "elapsed": 4,
     "status": "ok",
     "timestamp": 1660448018032,
     "user": {
      "displayName": "Mike Frantz",
      "userId": "08482506601269125384"
     },
     "user_tz": 420
    },
    "id": "NEi5A-6H8Lek",
    "outputId": "dab32848-4ca3-41d8-a1da-b800d79df896"
   },
   "outputs": [
    {
     "data": {
      "text/plain": [
       "torch.Size([2, 3, 3, 3])"
      ]
     },
     "execution_count": 50,
     "metadata": {},
     "output_type": "execute_result"
    }
   ],
   "source": [
    "# Use unsqueeze to create a \"batch\" \n",
    "torch.cat([X.unsqueeze(0), X.unsqueeze(0)]).shape"
   ]
  },
  {
   "cell_type": "code",
   "execution_count": 51,
   "metadata": {
    "colab": {
     "base_uri": "https://localhost:8080/"
    },
    "executionInfo": {
     "elapsed": 4,
     "status": "ok",
     "timestamp": 1660448018474,
     "user": {
      "displayName": "Mike Frantz",
      "userId": "08482506601269125384"
     },
     "user_tz": 420
    },
    "id": "7ERgwobz8Lel",
    "outputId": "02e645f9-d59a-4bb7-d864-d33ab4622320"
   },
   "outputs": [
    {
     "data": {
      "text/plain": [
       "(tensor([[[[[[[ 1.5715, -0.1716,  0.2025, -0.0371, -1.5544, -0.1505,  0.0399,\n",
       "               -1.7186]]]]]]]),\n",
       " torch.Size([1, 1, 1, 1, 1, 1, 8]),\n",
       " tensor([ 1.5715, -0.1716,  0.2025, -0.0371, -1.5544, -0.1505,  0.0399, -1.7186]),\n",
       " torch.Size([8]),\n",
       " torch.Size([1, 1, 1, 1, 1, 8]))"
      ]
     },
     "execution_count": 51,
     "metadata": {},
     "output_type": "execute_result"
    }
   ],
   "source": [
    "y = torch.randn(1, 1, 1, 1, 1, 1, 8)\n",
    "y, y.shape, y.squeeze(), y.squeeze().shape, y.squeeze(2).shape"
   ]
  },
  {
   "cell_type": "code",
   "execution_count": 52,
   "metadata": {
    "executionInfo": {
     "elapsed": 3,
     "status": "ok",
     "timestamp": 1660448018475,
     "user": {
      "displayName": "Mike Frantz",
      "userId": "08482506601269125384"
     },
     "user_tz": 420
    },
    "id": "zH81Ceg58Lel"
   },
   "outputs": [],
   "source": [
    "# squeeze and unsqueeze are opposites\n",
    "assert X.shape == X.unsqueeze(0).squeeze(0).shape"
   ]
  },
  {
   "cell_type": "code",
   "execution_count": 53,
   "metadata": {
    "colab": {
     "base_uri": "https://localhost:8080/"
    },
    "executionInfo": {
     "elapsed": 3,
     "status": "ok",
     "timestamp": 1660448019216,
     "user": {
      "displayName": "Mike Frantz",
      "userId": "08482506601269125384"
     },
     "user_tz": 420
    },
    "id": "Qbj3_Heg8Lel",
    "outputId": "ca56a5f0-01d7-4c70-9e7d-cf3523ef4dac"
   },
   "outputs": [
    {
     "data": {
      "text/plain": [
       "tensor([[[ 0,  3,  6],\n",
       "         [ 1,  4,  7],\n",
       "         [ 2,  5,  8]],\n",
       "\n",
       "        [[ 9, 12, 15],\n",
       "         [10, 13, 16],\n",
       "         [11, 14, 17]],\n",
       "\n",
       "        [[18, 21, 24],\n",
       "         [19, 22, 25],\n",
       "         [20, 23, 26]]])"
      ]
     },
     "execution_count": 53,
     "metadata": {},
     "output_type": "execute_result"
    }
   ],
   "source": [
    "# Swap the 1nd and 2rd dim\n",
    "X.permute(0, 2, 1)"
   ]
  },
  {
   "cell_type": "markdown",
   "metadata": {
    "id": "0ea7_0B1Zayt"
   },
   "source": [
    "# Exercise 3.3: Write your own `sigmoid` function\n",
    "\n",
    "The `softmax` function is given.\n",
    "Use a similar approach to complete the `sigmoid` function.\n",
    "$e^x$ in `torch` is expressed using `torch.exp(x)`.\n",
    "\n",
    "<!-- startquestion -->"
   ]
  },
  {
   "cell_type": "code",
   "execution_count": 55,
   "metadata": {
    "executionInfo": {
     "elapsed": 1,
     "status": "ok",
     "timestamp": 1660448019592,
     "user": {
      "displayName": "Mike Frantz",
      "userId": "08482506601269125384"
     },
     "user_tz": 420
    },
    "id": "T3OWeHDZ_ATC"
   },
   "outputs": [],
   "source": [
    "def sigmoid(x):\n",
    "    #raise NotImplementedError()\n",
    "    return 1 / (1 + torch.exp(-x))\n",
    "\n",
    "def softmax(x, dim):\n",
    "    #raise NotImplementedError()\n",
    "    return torch.exp(x) / torch.exp(x).sum(dim=dim)"
   ]
  },
  {
   "cell_type": "code",
   "execution_count": 56,
   "metadata": {
    "colab": {
     "base_uri": "https://localhost:8080/",
     "height": 282
    },
    "executionInfo": {
     "elapsed": 548,
     "status": "ok",
     "timestamp": 1660448020663,
     "user": {
      "displayName": "Mike Frantz",
      "userId": "08482506601269125384"
     },
     "user_tz": 420
    },
    "id": "Nd2ZJ8aX8cRN",
    "outputId": "8e272933-ae7e-43ea-d5db-10bce4d1f29f"
   },
   "outputs": [
    {
     "data": {
      "text/plain": [
       "<matplotlib.legend.Legend at 0x269547ecca0>"
      ]
     },
     "execution_count": 56,
     "metadata": {},
     "output_type": "execute_result"
    },
    {
     "data": {
      "image/png": "[encoded data removed]",
      "text/plain": [
       "<Figure size 640x480 with 1 Axes>"
      ]
     },
     "metadata": {},
     "output_type": "display_data"
    }
   ],
   "source": [
    "x = torch.arange(-8, 8, 0.05)\n",
    "plt.plot(x, sigmoid(x), label='our sigmoid', ls='--', color='r', linewidth=4)\n",
    "plt.plot(x, torch.sigmoid(x), label='torch sigmoid', c='b', alpha=0.8)\n",
    "plt.legend()"
   ]
  },
  {
   "cell_type": "code",
   "execution_count": 57,
   "metadata": {
    "colab": {
     "base_uri": "https://localhost:8080/"
    },
    "executionInfo": {
     "elapsed": 5,
     "status": "ok",
     "timestamp": 1660448021129,
     "user": {
      "displayName": "Mike Frantz",
      "userId": "08482506601269125384"
     },
     "user_tz": 420
    },
    "id": "vl1V-i_69tcd",
    "outputId": "facd0418-56b5-4b11-d106-28dc6f57fd18"
   },
   "outputs": [
    {
     "name": "stdout",
     "output_type": "stream",
     "text": [
      "X:\n",
      "tensor([[0.3181, 0.6417, 0.7364],\n",
      "        [0.2967, 0.8698, 0.2271],\n",
      "        [0.1001, 0.5895, 0.4622]])\n",
      "Our softmax(x):\n",
      "tensor([[0.3593, 0.3120, 0.4235],\n",
      "        [0.3517, 0.3919, 0.2545],\n",
      "        [0.2890, 0.2961, 0.3220]])\n",
      "Torch softmax(x):\n",
      "tensor([[0.3593, 0.3120, 0.4235],\n",
      "        [0.3517, 0.3919, 0.2545],\n",
      "        [0.2890, 0.2961, 0.3220]])\n",
      "Sanity check: row sums:\n",
      "tensor([1., 1., 1.])\n"
     ]
    }
   ],
   "source": [
    "X = torch.rand(3, 3)\n",
    "print(\n",
    "    'X:', X, \n",
    "    'Our softmax(x):', softmax(X, dim=0),\n",
    "    'Torch softmax(x):', torch.softmax(X, dim=0), \n",
    "    'Sanity check: row sums:', softmax(X, dim=0).sum(dim=0), \n",
    "    sep='\\n'\n",
    ")"
   ]
  },
  {
   "cell_type": "code",
   "execution_count": 58,
   "metadata": {
    "colab": {
     "base_uri": "https://localhost:8080/"
    },
    "executionInfo": {
     "elapsed": 3,
     "status": "ok",
     "timestamp": 1660448021653,
     "user": {
      "displayName": "Mike Frantz",
      "userId": "08482506601269125384"
     },
     "user_tz": 420
    },
    "id": "cLgGQ-DBJB14",
    "outputId": "f98e4328-18ec-4091-a2f1-abdbc7f1dd1e"
   },
   "outputs": [
    {
     "data": {
      "text/plain": [
       "tensor([[0.3593, 0.3120, 0.4235],\n",
       "        [0.3517, 0.3919, 0.2545],\n",
       "        [0.2890, 0.2961, 0.3220]])"
      ]
     },
     "execution_count": 58,
     "metadata": {},
     "output_type": "execute_result"
    }
   ],
   "source": [
    "# We can also call softmax on a tensor\n",
    "X.softmax(dim=0)"
   ]
  },
  {
   "cell_type": "code",
   "execution_count": 59,
   "metadata": {
    "colab": {
     "base_uri": "https://localhost:8080/"
    },
    "executionInfo": {
     "elapsed": 3,
     "status": "ok",
     "timestamp": 1660448022091,
     "user": {
      "displayName": "Mike Frantz",
      "userId": "08482506601269125384"
     },
     "user_tz": 420
    },
    "id": "OxKqhnztM9qr",
    "outputId": "b8289696-bbcd-473e-fbcf-8f6f3e624fc7"
   },
   "outputs": [
    {
     "data": {
      "text/plain": [
       "torch.Size([16, 3, 4])"
      ]
     },
     "execution_count": 59,
     "metadata": {},
     "output_type": "execute_result"
    }
   ],
   "source": [
    "(torch.randn(16, 3, 4) * torch.randn(3, 4)).shape"
   ]
  },
  {
   "cell_type": "code",
   "execution_count": 61,
   "metadata": {
    "colab": {
     "base_uri": "https://localhost:8080/"
    },
    "executionInfo": {
     "elapsed": 3,
     "status": "ok",
     "timestamp": 1660448022841,
     "user": {
      "displayName": "Mike Frantz",
      "userId": "08482506601269125384"
     },
     "user_tz": 420
    },
    "id": "uxvmDsePNQFX",
    "outputId": "8f3b73cd-466d-4b83-d443-cfdbd9762d10"
   },
   "outputs": [
    {
     "data": {
      "text/plain": [
       "torch.Size([16, 3, 7])"
      ]
     },
     "execution_count": 61,
     "metadata": {},
     "output_type": "execute_result"
    }
   ],
   "source": [
    "(torch.randn(16, 3, 4) @ torch.randn(4, 7)).shape"
   ]
  },
  {
   "cell_type": "code",
   "execution_count": 63,
   "metadata": {
    "colab": {
     "base_uri": "https://localhost:8080/"
    },
    "executionInfo": {
     "elapsed": 2,
     "status": "ok",
     "timestamp": 1660448024139,
     "user": {
      "displayName": "Mike Frantz",
      "userId": "08482506601269125384"
     },
     "user_tz": 420
    },
    "id": "iGz5XhoYNvtw",
    "outputId": "4ca2b33e-ac8b-4857-f9c7-8150cb2bcdd1"
   },
   "outputs": [
    {
     "data": {
      "text/plain": [
       "tensor([[-0.4352,  0.9920, -1.2292],\n",
       "        [-0.9678, -1.3448, -2.1369],\n",
       "        [ 0.2841, -0.7970,  0.6935]])"
      ]
     },
     "execution_count": 63,
     "metadata": {},
     "output_type": "execute_result"
    }
   ],
   "source": [
    "torch.randn(3, 4) @ torch.randn(4, 3)"
   ]
  },
  {
   "cell_type": "code",
   "execution_count": null,
   "metadata": {
    "id": "NfqOjwTKaiJx"
   },
   "outputs": [],
   "source": []
  }
 ],
 "metadata": {
  "colab": {
   "collapsed_sections": [],
   "name": "03_Basic_Tensor_Operations.ipynb",
   "provenance": []
  },
  "kernelspec": {
   "display_name": "deepenv",
   "language": "python",
   "name": "python3"
  },
  "language_info": {
   "codemirror_mode": {
    "name": "ipython",
    "version": 3
   },
   "file_extension": ".py",
   "mimetype": "text/x-python",
   "name": "python",
   "nbconvert_exporter": "python",
   "pygments_lexer": "ipython3",
   "version": "3.10.4"
  }
 },
 "nbformat": 4,
 "nbformat_minor": 0
}
